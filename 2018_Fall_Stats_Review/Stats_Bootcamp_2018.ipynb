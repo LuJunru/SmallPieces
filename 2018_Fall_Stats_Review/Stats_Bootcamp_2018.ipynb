{
 "cells": [
  {
   "cell_type": "code",
   "execution_count": 1,
   "metadata": {},
   "outputs": [
    {
     "name": "stdout",
     "output_type": "stream",
     "text": [
      "Populating the interactive namespace from numpy and matplotlib\n"
     ]
    },
    {
     "name": "stderr",
     "output_type": "stream",
     "text": [
      "/usr/local/Anaconda3-5.0.0-Linux-x86_64/envs/PUI2016_Python2/lib/python2.7/site-packages/IPython/html.py:14: ShimWarning: The `IPython.html` package has been deprecated. You should import from `notebook` instead. `IPython.html.widgets` has moved to `ipywidgets`.\n",
      "  \"`IPython.html.widgets` has moved to `ipywidgets`.\", ShimWarning)\n"
     ]
    }
   ],
   "source": [
    "import numpy as np\n",
    "from numpy import random\n",
    "from scipy import stats\n",
    "import matplotlib.pyplot as plt\n",
    "import seaborn as sns  # 可视化包\n",
    "import pandas as pd\n",
    "%pylab inline"
   ]
  },
  {
   "cell_type": "markdown",
   "metadata": {},
   "source": [
    "# Probabilities&Stats Bootcamp"
   ]
  },
  {
   "cell_type": "markdown",
   "metadata": {},
   "source": [
    "# 1 Samples and random variables"
   ]
  },
  {
   "cell_type": "markdown",
   "metadata": {},
   "source": [
    "**Example 1.1** Binary random variable: students passing (1) or failing (0) exam. \n",
    "\n",
    "Can take both values depending on which student we take. If we do not know the student's background and level of preparation, the outcome is totally random for us. Let's estiate the odds based on a track of observations"
   ]
  },
  {
   "cell_type": "code",
   "execution_count": 2,
   "metadata": {},
   "outputs": [
    {
     "data": {
      "text/plain": [
       "array([0, 1, 0, 1, 1, 1, 0, 1, 0, 1, 0, 0, 0, 1, 1, 0, 1, 1, 1, 1, 1, 1, 0,\n",
       "       1, 1, 1, 1, 0, 0, 1, 1, 1, 1, 0, 0, 1, 1, 1, 1, 1, 1, 1, 1, 1, 0, 0,\n",
       "       0, 1, 0, 1, 0, 1, 1, 1, 1, 1, 1, 0, 1, 1, 0, 1, 1, 1, 1, 1, 0, 1, 1,\n",
       "       1, 1, 1, 0, 1, 0, 1, 1, 0, 1, 1, 1, 1, 0, 0, 1, 1, 0, 1, 0, 0, 1, 1,\n",
       "       1, 1, 1, 1, 0, 0, 1, 0])"
      ]
     },
     "execution_count": 2,
     "metadata": {},
     "output_type": "execute_result"
    }
   ],
   "source": [
    "#consider a sample of observations\n",
    "#generate pass-fail results; we'll talk about how we did that later\n",
    "np.random.seed(2018)\n",
    "E11=sample = stats.bernoulli.rvs(p = 0.7, size = 100)\n",
    "E11"
   ]
  },
  {
   "cell_type": "markdown",
   "metadata": {},
   "source": [
    "For a random student what is the chance she passes?"
   ]
  },
  {
   "cell_type": "code",
   "execution_count": 3,
   "metadata": {},
   "outputs": [
    {
     "data": {
      "text/plain": [
       "68"
      ]
     },
     "execution_count": 3,
     "metadata": {},
     "output_type": "execute_result"
    }
   ],
   "source": [
    "sum(E11) #68 student passed"
   ]
  },
  {
   "cell_type": "code",
   "execution_count": 4,
   "metadata": {},
   "outputs": [
    {
     "data": {
      "text/plain": [
       "100"
      ]
     },
     "execution_count": 4,
     "metadata": {},
     "output_type": "execute_result"
    }
   ],
   "source": [
    "len(E11) #out of 100"
   ]
  },
  {
   "cell_type": "code",
   "execution_count": 5,
   "metadata": {},
   "outputs": [
    {
     "name": "stdout",
     "output_type": "stream",
     "text": [
      "p=0.68\n"
     ]
    }
   ],
   "source": [
    "#The chances p are\n",
    "print 'p={}'.format(1.0*sum(E11)/len(E11))"
   ]
  },
  {
   "cell_type": "markdown",
   "metadata": {},
   "source": [
    "Our first discrete distribution - Bernoulli:\n",
    "$$\n",
    "P(S=1)=0.68\n",
    "$$$$\n",
    "P(S=0)=1-P(S=1)=0.32\n",
    "$$"
   ]
  },
  {
   "cell_type": "markdown",
   "metadata": {},
   "source": [
    "**Example 1.2** Discrete random variable: students getting \"A,B,C,F\""
   ]
  },
  {
   "cell_type": "code",
   "execution_count": 6,
   "metadata": {},
   "outputs": [
    {
     "data": {
      "text/plain": [
       "array(['C', 'A', 'F', 'B', 'B', 'B', 'C', 'B', 'C', 'A', 'C', 'F', 'C',\n",
       "       'A', 'B', 'F', 'B', 'B', 'B', 'B', 'B', 'B', 'F', 'B', 'B', 'B',\n",
       "       'A', 'F', 'C', 'B', 'B', 'B', 'A', 'F', 'F', 'A', 'B', 'A', 'B',\n",
       "       'B', 'B', 'B', 'A', 'B', 'C', 'C', 'F', 'B', 'F', 'B', 'C', 'B',\n",
       "       'A', 'B', 'B', 'A', 'B', 'F', 'B', 'B', 'F', 'B', 'B', 'B', 'B',\n",
       "       'B', 'C', 'B', 'B', 'A', 'A', 'B', 'C', 'B', 'F', 'B', 'A', 'C',\n",
       "       'B', 'A', 'A', 'B', 'C', 'C', 'B', 'B', 'C', 'A', 'C', 'F', 'A',\n",
       "       'B', 'B', 'B', 'A', 'B', 'C', 'C', 'B', 'C'], \n",
       "      dtype='|S1')"
      ]
     },
     "execution_count": 6,
     "metadata": {},
     "output_type": "execute_result"
    }
   ],
   "source": [
    "np.random.seed(2018)\n",
    "E12=np.random.choice(np.array(['A','B','C','F']),100,p=[0.15,0.55,0.2,0.1])\n",
    "E12"
   ]
  },
  {
   "cell_type": "code",
   "execution_count": 7,
   "metadata": {},
   "outputs": [
    {
     "data": {
      "text/plain": [
       "0.18"
      ]
     },
     "execution_count": 7,
     "metadata": {},
     "output_type": "execute_result"
    }
   ],
   "source": [
    "P={}\n",
    "P['A']=1.0*sum(E12=='A')/len(E12); P['A']"
   ]
  },
  {
   "cell_type": "code",
   "execution_count": 8,
   "metadata": {},
   "outputs": [
    {
     "data": {
      "text/plain": [
       "0.5"
      ]
     },
     "execution_count": 8,
     "metadata": {},
     "output_type": "execute_result"
    }
   ],
   "source": [
    "P['B']=1.0*sum(E12=='B')/len(E12); P['B']"
   ]
  },
  {
   "cell_type": "code",
   "execution_count": 9,
   "metadata": {},
   "outputs": [
    {
     "data": {
      "text/plain": [
       "0.19"
      ]
     },
     "execution_count": 9,
     "metadata": {},
     "output_type": "execute_result"
    }
   ],
   "source": [
    "P['C']=1.0*sum(E12=='C')/len(E12); P['C']"
   ]
  },
  {
   "cell_type": "code",
   "execution_count": 10,
   "metadata": {},
   "outputs": [
    {
     "data": {
      "text/plain": [
       "0.13"
      ]
     },
     "execution_count": 10,
     "metadata": {},
     "output_type": "execute_result"
    }
   ],
   "source": [
    "P['F']=1.0*sum(E12=='F')/len(E12); P['F']"
   ]
  },
  {
   "cell_type": "code",
   "execution_count": 11,
   "metadata": {},
   "outputs": [
    {
     "data": {
      "text/plain": [
       "{'A': 0.18, 'B': 0.5, 'C': 0.19, 'F': 0.13}"
      ]
     },
     "execution_count": 11,
     "metadata": {},
     "output_type": "execute_result"
    }
   ],
   "source": [
    "P"
   ]
  },
  {
   "cell_type": "code",
   "execution_count": 12,
   "metadata": {},
   "outputs": [
    {
     "name": "stdout",
     "output_type": "stream",
     "text": [
      "1.0\n"
     ]
    }
   ],
   "source": [
    "print P['A']+P['B']+P['C']+P['F']"
   ]
  },
  {
   "cell_type": "code",
   "execution_count": 13,
   "metadata": {},
   "outputs": [
    {
     "name": "stderr",
     "output_type": "stream",
     "text": [
      "/usr/local/Anaconda3-5.0.0-Linux-x86_64/envs/PUI2016_Python2/lib/python2.7/site-packages/matplotlib/font_manager.py:1297: UserWarning: findfont: Font family [u'sans-serif'] not found. Falling back to DejaVu Sans\n",
      "  (prop.get_family(), self.defaultFamily[fontext]))\n"
     ]
    },
    {
     "data": {
      "image/png": "[encoded data removed]",
      "text/plain": [
       "<matplotlib.figure.Figure at 0x7f5264fbefd0>"
      ]
     },
     "metadata": {},
     "output_type": "display_data"
    }
   ],
   "source": [
    "#distribution plot\n",
    "plt.bar(range(len(P)),P.values(), align='center')\n",
    "plt.xticks(range(len(P)), ['P('+p+')' for p in P.keys()]);"
   ]
  },
  {
   "cell_type": "markdown",
   "metadata": {},
   "source": [
    "Knowing $P(A,B,C,F)$ (discrete random variable distribution) allows us to estimate the odds of a random observation for this random variable - taking a random student and asking her/his grade"
   ]
  },
  {
   "cell_type": "markdown",
   "metadata": {},
   "source": [
    "**Example 1.3** Continous random variable: students credit from 0.0 to 100.0"
   ]
  },
  {
   "cell_type": "code",
   "execution_count": 14,
   "metadata": {},
   "outputs": [
    {
     "data": {
      "text/plain": [
       "array([ 55.84848606,  68.72776503,  92.22598896,  40.80769494,\n",
       "        67.53415334,  72.84043943,  57.85814887,  61.65117998,\n",
       "        49.67902813,  66.50346122,  67.65331504,  57.52303539,\n",
       "        39.72331432,  68.19946125,  78.45982682,  76.14669157,\n",
       "        41.84062681,  55.39985146,  44.13871739,  66.03085382,\n",
       "        64.33747682,  79.24099834,  44.01456299,  34.40050695,\n",
       "        57.40803911,  60.95565259,  65.55942578,  35.93185591,\n",
       "        27.51405939,  65.70555191,  55.85248366,  51.36477083,\n",
       "        66.3278146 ,  70.57170445,  60.68101743,  67.96035107,\n",
       "        62.07188043,  65.556947  ,  59.19183295,  76.09194   ,\n",
       "        66.22878885,  48.12664479,  47.9493769 ,  60.06000119,\n",
       "        72.57282607,  60.70625582,  26.68219672,  66.73185671,\n",
       "        59.79849335,  71.80563714,  62.82501209,  36.29653689,\n",
       "        53.79672488,  43.8545619 ,  47.22247168,  71.77131902,\n",
       "        50.91341591,  57.77199608,  62.0063864 ,  46.07865013,\n",
       "        59.35956358,  80.06874654,  59.65420687,  73.97348829,\n",
       "        43.21497544,  62.02961229,  57.2215311 ,  48.30100376,\n",
       "        66.79903064,  67.26129848,  49.97193714,  45.27546706,\n",
       "        52.14583551,  65.31114564,  55.41294208,  54.71824178,\n",
       "        49.93898569,  23.15836044,  59.11661236,  45.994018  ,\n",
       "        66.1812055 ,  67.29985055,  79.61645653,  48.74160467,\n",
       "        22.70886202,  83.22815144,  70.93312781,  88.40999738,\n",
       "        81.81575428,  36.81063032,  48.42122609,  64.6374699 ,\n",
       "        71.46125545,  54.45464442,  55.77271725,  54.2410022 ,\n",
       "        35.17823883,  52.30944569,  62.61499034,  64.40303792])"
      ]
     },
     "execution_count": 14,
     "metadata": {},
     "output_type": "execute_result"
    }
   ],
   "source": [
    "np.random.seed(2018)\n",
    "E13=np.random.normal(loc=60, scale=15, size=100)\n",
    "E13"
   ]
  },
  {
   "cell_type": "code",
   "execution_count": 15,
   "metadata": {},
   "outputs": [
    {
     "data": {
      "text/plain": [
       "0"
      ]
     },
     "execution_count": 15,
     "metadata": {},
     "output_type": "execute_result"
    }
   ],
   "source": [
    "#no point of questioning the odds of a specific outcome as they are usually neglectably low given that the outcome could be any of infinitely many real numbers within a given interval \n",
    "sum(E13==80.0)"
   ]
  },
  {
   "cell_type": "code",
   "execution_count": 16,
   "metadata": {},
   "outputs": [
    {
     "data": {
      "text/plain": [
       "5"
      ]
     },
     "execution_count": 16,
     "metadata": {},
     "output_type": "execute_result"
    }
   ],
   "source": [
    "#however one can ask for the odds of getting a value higher/lower than something\n",
    "sum(E13>80)"
   ]
  },
  {
   "cell_type": "code",
   "execution_count": 17,
   "metadata": {},
   "outputs": [
    {
     "name": "stdout",
     "output_type": "stream",
     "text": [
      "P(S>80)=0.05\n"
     ]
    }
   ],
   "source": [
    "print 'P(S>80)={}'.format(1.0*sum(E13>80)/len(E13))"
   ]
  },
  {
   "cell_type": "code",
   "execution_count": 18,
   "metadata": {},
   "outputs": [
    {
     "name": "stdout",
     "output_type": "stream",
     "text": [
      "P(S in [60,80])=0.44\n"
     ]
    }
   ],
   "source": [
    "#or being within a certain range\n",
    "print 'P(S in [60,80])={}'.format(1.0*sum((E13>=60)&(E13<=80))/len(E13))"
   ]
  },
  {
   "cell_type": "code",
   "execution_count": 19,
   "metadata": {},
   "outputs": [
    {
     "data": {
      "text/plain": [
       "(array([  0.,   0.,   0.,   0.,   2.,   2.,   1.,   5.,   6.,  12.,   8.,\n",
       "         15.,  13.,  18.,   8.,   5.,   3.,   1.,   1.,   0.]),\n",
       " array([   0.,    5.,   10.,   15.,   20.,   25.,   30.,   35.,   40.,\n",
       "          45.,   50.,   55.,   60.,   65.,   70.,   75.,   80.,   85.,\n",
       "          90.,   95.,  100.]),\n",
       " <a list of 20 Patch objects>)"
      ]
     },
     "execution_count": 19,
     "metadata": {},
     "output_type": "execute_result"
    },
    {
     "data": {
      "image/png": "[encoded data removed]",
      "text/plain": [
       "<matplotlib.figure.Figure at 0x7f5264f0fe50>"
      ]
     },
     "metadata": {},
     "output_type": "display_data"
    }
   ],
   "source": [
    "plt.xticks(range(0,101,5))\n",
    "plt.hist(E13,bins=20,range=(0,100),align='mid')"
   ]
  },
  {
   "cell_type": "code",
   "execution_count": 20,
   "metadata": {},
   "outputs": [
    {
     "data": {
      "text/plain": [
       "<matplotlib.axes._subplots.AxesSubplot at 0x7f52628e3a90>"
      ]
     },
     "execution_count": 20,
     "metadata": {},
     "output_type": "execute_result"
    },
    {
     "data": {
      "image/png": "[encoded data removed]",
      "text/plain": [
       "<matplotlib.figure.Figure at 0x7f5262a284d0>"
      ]
     },
     "metadata": {},
     "output_type": "display_data"
    }
   ],
   "source": [
    "sns.distplot(E13, hist=True, kde=True, \n",
    "             bins=20,color = 'darkblue', \n",
    "             hist_kws={'edgecolor':'black'},\n",
    "             kde_kws={'linewidth': 4})"
   ]
  },
  {
   "cell_type": "markdown",
   "metadata": {},
   "source": [
    "# 2 Sample distributions\n",
    "\n",
    "Observe a random variable $X$ through a sample of integer or real-valued observations $X_1,X_2,...,X_N$. Key distribution parameters are:\n",
    "1) Sample average (mean):\n",
    "$$\n",
    "\\mu=E[X]=\\frac{\\sum\\limits_{j=1}^N X_j}{N},\n",
    "$$\n",
    "2) Sample variance $var[X]$ and standard deviation $\\sigma$ (how far on average are observations from the mean or what average error to expect when approximating random variable with its mean):\n",
    "$$\n",
    "\\sigma^2=var[X]=\\frac{\\sum\\limits_{j=1}^N (X_j-\\mu)^2}{N}.\n",
    "$$"
   ]
  },
  {
   "cell_type": "code",
   "execution_count": 21,
   "metadata": {},
   "outputs": [
    {
     "name": "stdout",
     "output_type": "stream",
     "text": [
      "Average credit mu=58.408967358\n"
     ]
    }
   ],
   "source": [
    "mu=E13.mean()\n",
    "print 'Average credit mu={}'.format(mu)"
   ]
  },
  {
   "cell_type": "code",
   "execution_count": 22,
   "metadata": {},
   "outputs": [
    {
     "name": "stdout",
     "output_type": "stream",
     "text": [
      "Standard deviation of credits sigma=13.7964046193\n"
     ]
    }
   ],
   "source": [
    "sigma=E13.std()\n",
    "print 'Standard deviation of credits sigma={}'.format(sigma)"
   ]
  },
  {
   "cell_type": "code",
   "execution_count": 23,
   "metadata": {},
   "outputs": [
    {
     "data": {
      "text/plain": [
       "13.796404619346905"
      ]
     },
     "execution_count": 23,
     "metadata": {},
     "output_type": "execute_result"
    }
   ],
   "source": [
    "#manual computation\n",
    "((E13-E13.mean())**2).mean()**0.5"
   ]
  },
  {
   "cell_type": "code",
   "execution_count": 24,
   "metadata": {},
   "outputs": [
    {
     "data": {
      "text/plain": [
       "<matplotlib.lines.Line2D at 0x7f5262665710>"
      ]
     },
     "execution_count": 24,
     "metadata": {},
     "output_type": "execute_result"
    },
    {
     "data": {
      "image/png": "[encoded data removed]",
      "text/plain": [
       "<matplotlib.figure.Figure at 0x7f5262857050>"
      ]
     },
     "metadata": {},
     "output_type": "display_data"
    }
   ],
   "source": [
    "#visualize mu and mu+-sigma interval\n",
    "sns.distplot(E13, hist=True, kde=True, \n",
    "             bins=20,color = 'darkblue', \n",
    "             hist_kws={'edgecolor':'black'},\n",
    "             kde_kws={'linewidth': 4})\n",
    "plt.axvline(mu, color='r', ls='--', lw=2.0)\n",
    "plt.axvline(mu-2*sigma, color='g', ls='--', lw=2.0)\n",
    "plt.axvline(mu+2*sigma, color='g', ls='--', lw=2.0)"
   ]
  },
  {
   "cell_type": "markdown",
   "metadata": {},
   "source": [
    "** Example 2.1.** Real world example: real estate prices in Queens"
   ]
  },
  {
   "cell_type": "code",
   "execution_count": 25,
   "metadata": {},
   "outputs": [
    {
     "name": "stdout",
     "output_type": "stream",
     "text": [
      "[ 260000.  389500.  275600.  280000.  243360.  390370.  329000.  410000.\n",
      "  280000.  415000.]\n",
      "Mean=326267.647327\n",
      "Standard deviation=103186.979881\n"
     ]
    }
   ],
   "source": [
    "#Consider a sample of individual house sale prices in one of the zip codes in Queens: 11412.\n",
    "E21 = np.loadtxt('data/NYC_RE_11412_single.csv')\n",
    "print(E21[0:10])\n",
    "mu=mean(E21)\n",
    "sigma=std(E21)\n",
    "print('Mean={0}'.format(mu))\n",
    "print('Standard deviation={0}'.format(sigma))"
   ]
  },
  {
   "cell_type": "code",
   "execution_count": 26,
   "metadata": {},
   "outputs": [
    {
     "data": {
      "text/plain": [
       "<matplotlib.lines.Line2D at 0x7f526251efd0>"
      ]
     },
     "execution_count": 26,
     "metadata": {},
     "output_type": "execute_result"
    },
    {
     "data": {
      "image/png": "[encoded data removed]",
      "text/plain": [
       "<matplotlib.figure.Figure at 0x7f52626eda10>"
      ]
     },
     "metadata": {},
     "output_type": "display_data"
    }
   ],
   "source": [
    "sns.distplot(E21, hist=True, kde=True, \n",
    "             bins=20,color = 'darkblue', \n",
    "             hist_kws={'edgecolor':'black'},\n",
    "             kde_kws={'linewidth': 4})\n",
    "plt.axvline(mu, color='r', ls='--', lw=2.0)\n",
    "plt.axvline(mu-2*sigma, color='g', ls='--', lw=2.0)\n",
    "plt.axvline(mu+2*sigma, color='g', ls='--', lw=2.0)"
   ]
  },
  {
   "cell_type": "markdown",
   "metadata": {},
   "source": [
    "# 3. Discrete random variable distribution\n",
    "\n",
    "When we know the sample of observations for a random variable we judge the odds based on it. Alternatively we may be given those odds but not the sample. \n",
    "\n",
    "E.g. without trying many times we know that flipping a coin gives 50%-50% odds for heads or tails. Or that rolling a dice gives $1/6$ probability for each outcome as all 6 outcomes those are equally probable.\n",
    "\n",
    "While random event has two possible outcomes - happened or not, the discrete random variable generalize that admitting a certain finite set of possible outcomes, for example integer numbers (e.g. dots on a dice) or any cathegorical value (e.g. student grade).\n",
    "\n",
    "The probability distribution of a random variable $X$ is defined by the odds $P(X=k)$ for each possible outcome $k$. Clearly\n",
    "$$\n",
    "\\sum\\limits_k P(X=k)=1\n",
    "$$\n",
    "\n",
    "## 3.1. Mean and variance\n",
    "\n",
    "While knowing the exact distribution provides a comprehensive description of a variable, sometimes assessing its key characteristics is also important. The quantities below generalize the sample mean and variance assuming different probabilities between different outcomes (while considering the sample of observations we assume all of them equally probable). "
   ]
  },
  {
   "cell_type": "markdown",
   "metadata": {},
   "source": [
    "Mean:\n",
    "$$\\mu=E[X]=\\sum_k P(X=k)k$$\n",
    "Variance:\n",
    "$$\\sigma^2=var[X]=E[(X-E[X])^2]=\\sum_k P(X=k)(k-\\mu)^2$$\n",
    "Standard deviation:\n",
    "$$\\sigma[X]=\\sqrt{var[E]}=\\sqrt{\\sum_k P(X=k)(k-\\mu)^2}$$\n",
    "Coefficient of variation:\n",
    "$$\n",
    "c_v=\\frac{\\sigma}{\\mu}\n",
    "$$\n",
    "Some useful properties:\n",
    "$$\n",
    "E[X^2]=\\sum_k P(X=k)k^2=\\sum_k P(X=k)(k-\\mu)^2+2\\mu\\sum_k P(X=k)k-\\mu^2\\sum_k P(X=k)=$$\n",
    "$$\\sigma^2+2\\mu^2-\\mu^2=\\mu^2+\\sigma^2.$$\n",
    "\n",
    "So\n",
    "$$\n",
    "var[X]=\\sigma^2=E[X^2]-E[X]^2\n",
    "$$\n",
    "\n",
    "$$\n",
    "E[X+Y]=E[X]+E[Y]\n",
    "$$$$\n",
    "E[a X]=aE[X], var[aX]=a^2 var[X]\n",
    "$$\n",
    "\n",
    "If two variables are independent (i.e. $P(Y=y|X=x)=P(Y=y)$ - see conditional probabilities below).\n",
    "$$\n",
    "E[XY]=E[X]E[Y]\n",
    "$$$$\n",
    "var[X+Y]=var[X]+var[Y]\n",
    "$$$$\n",
    "var[X-Y]=var[X]+var[-Y]=var[X]+var[Y]\n",
    "$$"
   ]
  },
  {
   "cell_type": "code",
   "execution_count": 27,
   "metadata": {},
   "outputs": [
    {
     "name": "stdout",
     "output_type": "stream",
     "text": [
      "Mean, mu=3.5\n",
      "Variance=2.91666666667\n",
      "Standard deviation, sigma=1.70782512766\n"
     ]
    }
   ],
   "source": [
    "#mean, variance and standard deviation for rolling a dice\n",
    "x=np.array(range(1,7))\n",
    "p=np.array([1.0/6]*6)\n",
    "mu=sum(p*x)\n",
    "sigma2=sum(np.square(x-mu)*p)\n",
    "print('Mean, mu={0}'.format(mu))\n",
    "print('Variance={0}'.format(sigma2))\n",
    "print('Standard deviation, sigma={0}'.format(sigma2**0.5))"
   ]
  },
  {
   "cell_type": "markdown",
   "metadata": {},
   "source": [
    "Probability distribution for a sum of two rolled dices"
   ]
  },
  {
   "cell_type": "code",
   "execution_count": 28,
   "metadata": {},
   "outputs": [
    {
     "name": "stdout",
     "output_type": "stream",
     "text": [
      "[0 0 1 2 3 4 5 6 5 4 3 2 1]\n"
     ]
    },
    {
     "data": {
      "text/plain": [
       "<Container object of 13 artists>"
      ]
     },
     "execution_count": 28,
     "metadata": {},
     "output_type": "execute_result"
    },
    {
     "data": {
      "image/png": "[encoded data removed]",
      "text/plain": [
       "<matplotlib.figure.Figure at 0x7f52627cd890>"
      ]
     },
     "metadata": {},
     "output_type": "display_data"
    }
   ],
   "source": [
    "p=np.array([0]*13) #array for accumulating probabilities\n",
    "for i in range(1,7): #loop through all the possible outcomes\n",
    "    for j in range(1,7):\n",
    "        p[i+j]+=1 #counting occurances for each sum\n",
    "print(p)\n",
    "p=p/1.0/sum(p) #normalize, transorming to probability distribution\n",
    "s=np.array(range(0,13)) #possible outcomes\n",
    "plt.bar(s,p, align='center') #plot their probabilities P(X=s)"
   ]
  },
  {
   "cell_type": "code",
   "execution_count": 29,
   "metadata": {},
   "outputs": [
    {
     "name": "stdout",
     "output_type": "stream",
     "text": [
      "Mean, mu=7.0\n",
      "Variance=5.83333333333\n",
      "Standard deviation, sigma=2.4152294577\n"
     ]
    }
   ],
   "source": [
    "#Mean, variance and standard deviation for the above\n",
    "mu=sum(s*p)\n",
    "sigma2=sum(np.square(s-mu)*p)\n",
    "print('Mean, mu={0}'.format(mu))\n",
    "print('Variance={0}'.format(sigma2))\n",
    "print('Standard deviation, sigma={0}'.format(sigma2**0.5))"
   ]
  },
  {
   "cell_type": "markdown",
   "metadata": {},
   "source": [
    "## 3.2. Bernoulli distribution\n",
    "Flipping a coin or any other random event happening with a probability $p$:\n",
    "$$\n",
    "Bern(X=1|p)=p\n",
    "$$$$\n",
    "Bern(X=0|p)=1-p\n",
    "$$$$\n",
    "\\mu=E[X]=1\\cdot Bern(X=1|p)+0\\cdot Bern(X=0|p)=p\n",
    "$$$$\n",
    "\\sigma=\\sqrt{(1-\\mu)^2 Bern(X=1|p)+(0-\\mu)^2 Bern(X=0|p)}=\\sqrt{(1-p)^2+p^2(1-p)}=\\sqrt{p(1-p)}.\n",
    "$$"
   ]
  },
  {
   "cell_type": "code",
   "execution_count": 30,
   "metadata": {},
   "outputs": [
    {
     "name": "stdout",
     "output_type": "stream",
     "text": [
      "[0 1 0 1 0 0 1 0 1 1 1 0 1 1 1 1 1 1 1 1 1 1 0 1 1 1 1 1 1 1 1 1 0 1 0 1 0\n",
      " 1 1 0 1 1 0 1 1 1 1 0 1 1]\n"
     ]
    },
    {
     "data": {
      "text/plain": [
       "37"
      ]
     },
     "execution_count": 30,
     "metadata": {},
     "output_type": "execute_result"
    }
   ],
   "source": [
    "random.seed(2015)\n",
    "sample = stats.bernoulli.rvs(p = 0.7, size = 50)\n",
    "print(sample)\n",
    "sum(sample)"
   ]
  },
  {
   "cell_type": "code",
   "execution_count": 31,
   "metadata": {
    "scrolled": true
   },
   "outputs": [
    {
     "name": "stdout",
     "output_type": "stream",
     "text": [
      "[38, 31, 31, 27, 34, 36, 36, 36, 31, 38, 33, 34, 34, 44, 35, 30, 39, 37, 36, 37, 30, 33, 32, 34, 37, 30, 38, 34, 29, 33, 33, 33, 38, 39, 34, 41, 36, 36, 34, 23, 38, 36, 39, 31, 38, 34, 39, 35, 37, 36, 41, 34, 30, 34, 36, 28, 42, 39, 35, 32, 40, 37, 32, 35, 32, 38, 35, 33, 35, 29, 40, 34, 38, 32, 40, 32, 36, 34, 42, 36, 39, 34, 36, 39, 37, 41, 33, 32, 30, 34, 33, 34, 36, 37, 37, 33, 36, 37, 38, 36]\n"
     ]
    }
   ],
   "source": [
    "counts=[]\n",
    "for i in range(0,10000):\n",
    "    sample = stats.bernoulli.rvs(p = 0.7, size = 50)\n",
    "    counts.append(sum(sample))\n",
    "print(counts[0:100])"
   ]
  },
  {
   "cell_type": "code",
   "execution_count": 32,
   "metadata": {},
   "outputs": [
    {
     "name": "stdout",
     "output_type": "stream",
     "text": [
      "Mean=34.9582\n",
      "Standard deviation=3.21335537406\n"
     ]
    },
    {
     "data": {
      "text/plain": [
       "<Container object of 25 artists>"
      ]
     },
     "execution_count": 32,
     "metadata": {},
     "output_type": "execute_result"
    },
    {
     "data": {
      "image/png": "[encoded data removed]",
      "text/plain": [
       "<matplotlib.figure.Figure at 0x7f52624ebf90>"
      ]
     },
     "metadata": {},
     "output_type": "display_data"
    }
   ],
   "source": [
    "print('Mean={0}'.format(mean(counts)))\n",
    "print('Standard deviation={0}'.format(std(counts)))\n",
    "h=np.histogram(counts,range=(20,45),bins=25)\n",
    "plt.figure(figsize = (10,5))\n",
    "plt.bar(h[1][0:-1],h[0])"
   ]
  },
  {
   "cell_type": "markdown",
   "metadata": {},
   "source": [
    "## 3.3. Binomial distribution\n",
    "Number of successes of a series of random (Bernoulli) events\n",
    "$$\n",
    "Bin(X=k|n,p)=C^k_n p^k (1-p)^{n-k},\n",
    "$$$$\n",
    "C^k_n=\\frac{n!}{(n-k)!k!}\n",
    "$$$$\n",
    "\\mu=E[X]=pn\n",
    "$$$$\n",
    "\\sigma[X]=\\sqrt{np(1-p)}\n",
    "$$"
   ]
  },
  {
   "cell_type": "code",
   "execution_count": 33,
   "metadata": {},
   "outputs": [
    {
     "name": "stdout",
     "output_type": "stream",
     "text": [
      "Mean=35.0\n",
      "Standard deviation=3.2403703492\n",
      "0.105017451475\n"
     ]
    }
   ],
   "source": [
    "p=0.7\n",
    "n=50\n",
    "mu=p*n\n",
    "sigma=sqrt(n*p*(1-p))\n",
    "print('Mean={0}'.format(mu))\n",
    "print('Standard deviation={0}'.format(sigma))\n",
    "print(stats.binom.pmf(37, p=p, n=n))\n",
    "\n",
    "\n"
   ]
  },
  {
   "cell_type": "code",
   "execution_count": 34,
   "metadata": {
    "scrolled": false
   },
   "outputs": [
    {
     "data": {
      "text/plain": [
       "<Container object of 25 artists>"
      ]
     },
     "execution_count": 34,
     "metadata": {},
     "output_type": "execute_result"
    },
    {
     "data": {
      "image/png": "[encoded data removed]",
      "text/plain": [
       "<matplotlib.figure.Figure at 0x7f52624d8e10>"
      ]
     },
     "metadata": {},
     "output_type": "display_data"
    }
   ],
   "source": [
    "plt.figure(figsize = (10,5))\n",
    "k=range(20,45)\n",
    "plt.axvline(mu, color='r', ls='--', lw=2.0)\n",
    "plt.axvline(mu-sigma, color='g', ls='--', lw=2.0)\n",
    "plt.axvline(mu+sigma, color='g', ls='--', lw=2.0)\n",
    "plt.bar(k,stats.binom.pmf(k, p=0.7, n=50))"
   ]
  },
  {
   "cell_type": "markdown",
   "metadata": {},
   "source": [
    "## 3.4. Poisson distribution\n",
    "Number of events happening with a certain frequency $\\lambda$ (like device failures, crime, disasters)  \n",
    "泊松分布适合于描述单位时间内随机事件发生的次数的概率分布\n",
    "$$\n",
    "Poi(X=k|\\lambda)=e^{-\\lambda}\\frac{\\lambda^k}{k!}\n",
    "$$$$\n",
    "E[X]=var[X]=\\lambda=\\mu=\\sigma^2\n",
    "$$"
   ]
  },
  {
   "cell_type": "markdown",
   "metadata": {},
   "source": [
    "Example: New house construction permits issued in Staten Island average at 700 per year. Assume construction permits are requested at a homogenous rate over time, i.e. their number follows Poisson distribution"
   ]
  },
  {
   "cell_type": "code",
   "execution_count": 35,
   "metadata": {},
   "outputs": [
    {
     "name": "stdout",
     "output_type": "stream",
     "text": [
      "Standard deviation range=(673,726), probability=0.692567740903\n"
     ]
    },
    {
     "data": {
      "image/png": "[encoded data removed]",
      "text/plain": [
       "<matplotlib.figure.Figure at 0x7f52623201d0>"
      ]
     },
     "metadata": {},
     "output_type": "display_data"
    }
   ],
   "source": [
    "plt.figure()\n",
    "k=range(500,1000,2)\n",
    "mu=700\n",
    "sigma=sqrt(mu)\n",
    "plt.axvline(mu, color='r', ls='--', lw=2.0)\n",
    "plt.axvline(mu-sigma, color='g', ls='--', lw=2.0)\n",
    "plt.axvline(mu+sigma, color='g', ls='--', lw=2.0)\n",
    "plt.bar(k,stats.poisson.pmf(k, mu=mu))\n",
    "p=sum(stats.poisson.pmf(range(int(mu-sigma),int(sigma+mu+1)), mu=mu))\n",
    "print('Standard deviation range=({0},{1}), probability={2}'.format(int(mu-sigma),int(sigma+mu),p))"
   ]
  },
  {
   "cell_type": "markdown",
   "metadata": {},
   "source": [
    "** Example 3.4.1 ** 25 named hurricanes hit Bermuda during 22 years from 1991 till 2012. Given this statistics, what is the probability of getting at least 3 hurricanes during the same year (it actually happened in 1998)?"
   ]
  },
  {
   "cell_type": "code",
   "execution_count": 36,
   "metadata": {},
   "outputs": [
    {
     "name": "stdout",
     "output_type": "stream",
     "text": [
      "0.107014227808\n"
     ]
    },
    {
     "data": {
      "image/png": "[encoded data removed]",
      "text/plain": [
       "<matplotlib.figure.Figure at 0x7f526244ef90>"
      ]
     },
     "metadata": {},
     "output_type": "display_data"
    }
   ],
   "source": [
    "plt.figure()\n",
    "k=range(0,7)\n",
    "# 事件概率等于25个飓风/22年\n",
    "mu=25.0/22\n",
    "plt.bar(k,stats.poisson.pmf(k, mu=mu))\n",
    "print(1-sum(stats.poisson.pmf(range(0,3), mu=mu)))"
   ]
  },
  {
   "cell_type": "markdown",
   "metadata": {},
   "source": [
    "# 4. Continous random variable distributions\n",
    "\n",
    "If $X$ is real-valued (e.g. student credits or house prices), there is no point of questioning $P(X=x)$ for a specific value $x$ - it is usually neglectably low as the number of possible values $x$ is infinite. Instead it is characterized by a non-decreasing $F(x)=P(X\\leq x)$ valued between 0 and 1, called cumulative distribution function (CDF，累计分布函数，表示概率). Knowing it one can figure out\n",
    "$$\n",
    "P(a\\leq X\\leq b)=F(b)-F(a)\n",
    "$$\n",
    "If $F$ is differentiable then its derivative \n",
    "$$\n",
    "p(x)=F'(x)=\\lim\\limits_{\\Delta x\\to 0}\\frac{P(x\\leq X\\leq x+\\Delta x)}{\\Delta x}\n",
    "$$ \n",
    "is called a probability density function (PDF，概率密度函数). Then\n",
    "$$\n",
    "P(a\\leq X\\leq b)=\\int\\limits_a^b p(x)dx\n",
    "$$\n",
    "so density \"weights\" each specific value of $x$, allowing to integrate them into finite nonzero probabilities for $X$ getting into each specific interval $[a,b]$. For small intervals this could be approximated as\n",
    "$$\n",
    "P(a\\leq X\\leq b)=p\\left(\\frac{a+b}{2}\\right)(b-a).\n",
    "$$\n",
    "\n",
    "## 4.1. Mean and variance, quantiles\n",
    "\n",
    "The key quantities of continous random varialbe distribution are defined similar to those of discrete ones, just that one uses integration instead of summation.\n",
    "\n",
    "Mean:\n",
    "$$\n",
    "\\mu=E[X]=\\int\\limits_x x p(x)dx=\\int x d P\n",
    "$$\n",
    "Variance:\n",
    "$$\n",
    "\\sigma^2=var[X]=E[(X-E[X])^2]=\\int\\limits_x (x-\\mu)^2 p(x)dx\n",
    "$$\n",
    "Quantile:\n",
    "$$\n",
    "x_\\alpha=F^{-1}(\\alpha); P(X\\leq x_\\alpha)=\\alpha\n",
    "$$\n",
    "$$\n",
    "E[X+Y]=E[X]+E[Y]\n",
    "$$$$\n",
    "E[qX]=qE[X]; var[qX]=q^2 var[X].\n",
    "$$\n",
    "The following holds for independent variables X and Y only (i.e. $P(Y=y|X=x)=P(Y=y)$)\n",
    "$$\n",
    "var[X+Y]=var[X]+var[Y], \\sigma[X+Y]=\\sqrt{\\sigma[X]^2+\\sigma[Y]^2}.\n",
    "$$$$\n",
    "E[XY]=E[X]E[Y]\n",
    "$$"
   ]
  },
  {
   "cell_type": "markdown",
   "metadata": {},
   "source": [
    "## 4.2. Uniform distribution\n",
    "\n",
    "Random variable uniformly distributed over a certain interval\n",
    "$$\n",
    "Unif(x|a,b)=\\frac{1}{b-a} I(a\\leq x\\leq b)\n",
    "$$\n",
    "$$\n",
    "\\mu=E[X]=\\frac{a+b}{2}\n",
    "$$$$\n",
    "\\sigma[X]=\\frac{(b-a)}{2\\sqrt{3}}\n",
    "$$"
   ]
  },
  {
   "cell_type": "code",
   "execution_count": 37,
   "metadata": {},
   "outputs": [
    {
     "data": {
      "text/plain": [
       "(0, 1.1)"
      ]
     },
     "execution_count": 37,
     "metadata": {},
     "output_type": "execute_result"
    },
    {
     "data": {
      "image/png": "[encoded data removed]",
      "text/plain": [
       "<matplotlib.figure.Figure at 0x7f526204e0d0>"
      ]
     },
     "metadata": {},
     "output_type": "display_data"
    },
    {
     "data": {
      "image/png": "[encoded data removed]",
      "text/plain": [
       "<matplotlib.figure.Figure at 0x7f526230cc10>"
      ]
     },
     "metadata": {},
     "output_type": "display_data"
    }
   ],
   "source": [
    "plt.figure()\n",
    "x=np.array(range(0,500))*0.01\n",
    "a=2\n",
    "b=4\n",
    "w=b-a\n",
    "plt.title('PDF of a uniform distribution')\n",
    "plt.plot(x,stats.uniform.pdf(x,a,w))\n",
    "plt.ylim([0,0.6])\n",
    "plt.figure()\n",
    "plt.title('CDF of a uniform distribution')\n",
    "plt.plot(x,stats.uniform.cdf(x,a,w))\n",
    "plt.ylim([0,1.1])"
   ]
  },
  {
   "cell_type": "markdown",
   "metadata": {},
   "source": [
    "## 4.3. Normal distribution\n",
    "\n",
    "A very common continous distribution - happens to represent a number of real-world processes (physics, biology, sociology, economics etc): characteristics of people and animals, errors of astronomical observations, income etc.\n",
    "\n",
    "### Central limit theorem: \n",
    "a sample average $\\overline{X}=\\frac{\\sum\\limits_i X_i}{N}$ of a random sample of N instances ${X_1,X_2,...,X_N}$ of a random variable $X$ ($E[X]=\\mu$, $std[X]=\\sigma$) has a distribution close to normal ${\\cal N}(\\overline{X}|\\mu,\\sigma^2/N)$ for large $N$. \n",
    "\n",
    "Rigorously\n",
    "$$\n",
    "\\sqrt{N}(\\overline{X}-\\mu)\\to {\\cal N}(0,\\sigma^2),\n",
    "$$\n",
    "while $N\\to\\infty$.\n",
    "\n",
    "Probability density function:\n",
    "$$\n",
    "{\\cal N}(X=x|\\mu,\\sigma^2)=\\phi(x|\\mu,\\sigma^2)=\\frac{1}{\\sqrt{2\\pi}\\sigma}e^{-\\frac{(x-\\mu)^2}{2\\sigma^2}}\n",
    "$$\n",
    "\n",
    "Cumulative distribution function\n",
    "$$\n",
    "\\Phi(x|\\mu,\\sigma^2)=\\int\\limits_{-\\infty}^x \\frac{1}{\\sqrt{2\\pi}\\sigma}e^{-\\frac{(t-\\mu)^2}{2\\sigma^2}}dt\n",
    "$$\n",
    "\n",
    "Sum of independent normally distributed random variables is also normally distributed."
   ]
  },
  {
   "cell_type": "code",
   "execution_count": 38,
   "metadata": {},
   "outputs": [
    {
     "data": {
      "text/plain": [
       "[<matplotlib.lines.Line2D at 0x7f5261c2e550>]"
      ]
     },
     "execution_count": 38,
     "metadata": {},
     "output_type": "execute_result"
    },
    {
     "data": {
      "image/png": "[encoded data removed]",
      "text/plain": [
       "<matplotlib.figure.Figure at 0x7f5262079c90>"
      ]
     },
     "metadata": {},
     "output_type": "display_data"
    },
    {
     "data": {
      "image/png": "[encoded data removed]",
      "text/plain": [
       "<matplotlib.figure.Figure at 0x7f5261b78410>"
      ]
     },
     "metadata": {},
     "output_type": "display_data"
    },
    {
     "data": {
      "image/png": "[encoded data removed]",
      "text/plain": [
       "<matplotlib.figure.Figure at 0x7f5261c67550>"
      ]
     },
     "metadata": {},
     "output_type": "display_data"
    }
   ],
   "source": [
    "plt.figure()\n",
    "x=np.array(range(-500,501))*0.01\n",
    "plt.title('PDF of a standard normal distribution')\n",
    "plt.plot(x,stats.norm.pdf(x,0,1))\n",
    "plt.figure()\n",
    "plt.title('CDF of a standard normal distribution')\n",
    "plt.plot(x,stats.norm.cdf(x,0,1))\n",
    "plt.figure()\n",
    "plt.title('Inverse CDF of a standard normal distribution') #for each P shows the value x such that there is a chance P that X<=x\n",
    "x=np.array(range(0,101))*0.01\n",
    "plt.plot(x,stats.norm.ppf(x,0,1))"
   ]
  },
  {
   "cell_type": "code",
   "execution_count": 39,
   "metadata": {},
   "outputs": [
    {
     "data": {
      "text/plain": [
       "<matplotlib.legend.Legend at 0x7f5261df8250>"
      ]
     },
     "execution_count": 39,
     "metadata": {},
     "output_type": "execute_result"
    },
    {
     "data": {
      "image/png": "[encoded data removed]",
      "text/plain": [
       "<matplotlib.figure.Figure at 0x7f5261f3a190>"
      ]
     },
     "metadata": {},
     "output_type": "display_data"
    },
    {
     "data": {
      "image/png": "[encoded data removed]",
      "text/plain": [
       "<matplotlib.figure.Figure at 0x7f5261e6c610>"
      ]
     },
     "metadata": {},
     "output_type": "display_data"
    },
    {
     "data": {
      "image/png": "[encoded data removed]",
      "text/plain": [
       "<matplotlib.figure.Figure at 0x7f5261d83dd0>"
      ]
     },
     "metadata": {},
     "output_type": "display_data"
    }
   ],
   "source": [
    "plt.figure()\n",
    "x=np.array(range(0,2000))*0.01\n",
    "mu=10\n",
    "plt.title('PDF of a normal distribution')\n",
    "for sigma2 in range(1,6):\n",
    "    plt.plot(x,stats.norm.pdf(x,mu,sqrt(sigma2)),label='sigma^2={0}'.format(sigma2))\n",
    "plt.legend()\n",
    "plt.axvline(mu, color='r', ls='--', lw=2.0)\n",
    "plt.ylim([0,0.5])\n",
    "plt.figure()\n",
    "plt.title('CDF of a normal distribution')\n",
    "for sigma2 in range(1,6):\n",
    "    plt.plot(x,stats.norm.cdf(x,mu,sqrt(sigma2)),label='sigma^2={0}'.format(sigma2))\n",
    "plt.ylim([0,1.1])\n",
    "plt.xlim([0,30])\n",
    "plt.legend()\n",
    "plt.figure()\n",
    "plt.title('Inverse CDF of a standard normal distribution')\n",
    "x=np.array(range(0,101))*0.01\n",
    "plt.xlim([0,1.6])\n",
    "for sigma2 in range(1,6):\n",
    "    plt.plot(x,stats.norm.ppf(x,mu,sqrt(sigma2)),label='sigma^2={0}'.format(sigma2))\n",
    "plt.legend()"
   ]
  },
  {
   "cell_type": "markdown",
   "metadata": {},
   "source": [
    "But in spite of visual variaty of forms, actually all the normally distributed variables $X\\sim {\\cal N}(\\mu,\\sigma)$ could be easily derived from a single standard normal distritution $X_0\\sim {\\cal N}(0,1)$ as following: $X=X_0\\sigma+\\mu$.\n",
    "\n",
    "So knowing properties of ${\\cal N}(0,1)$ we can easily judge about all ${\\cal N}(\\mu,\\sigma)$. For example good to remember the scale of quantiles:"
   ]
  },
  {
   "cell_type": "code",
   "execution_count": 42,
   "metadata": {
    "scrolled": true
   },
   "outputs": [
    {
     "name": "stdout",
     "output_type": "stream",
     "text": [
      "1.64485362695\n",
      "2.32634787404\n",
      "3.09023230617\n"
     ]
    }
   ],
   "source": [
    "#values of inverse cumulative distribution function (quantiles) at 95%, 99% etc play important role in statistics\n",
    "# 分位函数\n",
    "print(stats.norm.ppf(0.95,0,1))\n",
    "print(stats.norm.ppf(0.99,0,1))\n",
    "print(stats.norm.ppf(0.999,0,1))\n",
    "#because all normal distributions are rescaled standard normal, those values serve as universal proportions"
   ]
  },
  {
   "cell_type": "markdown",
   "metadata": {},
   "source": [
    "** Example 4.3.1 ** So if for example daily energy usage of the building is known to be normally distributed with a mean of $\\mu=10Mwh$ and standard deviation $\\sigma=3MWh$, and we want to plan an energy supply system which will have enough capacity to satisfy hourly demand in $99.9\\%$ of cases, then it's maximal capacity should be planned as approx $10+3(std)*3(99.9\\% quantile)=19Mwh$."
   ]
  },
  {
   "cell_type": "code",
   "execution_count": 43,
   "metadata": {},
   "outputs": [
    {
     "name": "stdout",
     "output_type": "stream",
     "text": [
      "19.2706969185\n"
     ]
    }
   ],
   "source": [
    "#precisely\n",
    "print(stats.norm.ppf(0.999,10,3))"
   ]
  },
  {
   "cell_type": "markdown",
   "metadata": {},
   "source": [
    "** Example 4.3.2 **\n",
    "Recall the distribution of house prices. Fit normal distribution to it"
   ]
  },
  {
   "cell_type": "code",
   "execution_count": 44,
   "metadata": {},
   "outputs": [
    {
     "data": {
      "text/plain": [
       "[<matplotlib.lines.Line2D at 0x7f5261a14850>]"
      ]
     },
     "execution_count": 44,
     "metadata": {},
     "output_type": "execute_result"
    },
    {
     "data": {
      "image/png": "[encoded data removed]",
      "text/plain": [
       "<matplotlib.figure.Figure at 0x7f5261f31f10>"
      ]
     },
     "metadata": {},
     "output_type": "display_data"
    },
    {
     "data": {
      "image/png": "[encoded data removed]",
      "text/plain": [
       "<matplotlib.figure.Figure at 0x7f5261950690>"
      ]
     },
     "metadata": {},
     "output_type": "display_data"
    }
   ],
   "source": [
    "#get parameters of the distribution\n",
    "prices=E21\n",
    "mu=prices.mean()\n",
    "sigma=prices.std()\n",
    "#plot histogram\n",
    "h=np.histogram(prices,range=(1e4,1e6),bins=100)\n",
    "plt.figure(figsize = (8,5))\n",
    "plt.bar(h[1][0:-1],h[0]/9900.0/sum(h[0]))\n",
    "x=h[1][0:-1]\n",
    "\n",
    "#plot normal distribution with the same parameters\n",
    "plt.plot(x,stats.norm.pdf(x,mu,sigma))\n",
    "cumdistr = np.cumsum(h[0], axis=0)\n",
    "#compare sample CDF (% of houses priced below X) and normal CDF\n",
    "plt.figure(figsize = (8,5))\n",
    "plt.ylim(0,1.1)\n",
    "plt.plot(x,cumdistr*1.0/cumdistr[-1])\n",
    "plt.plot(x,stats.norm.cdf(x,mu,sigma),'r')"
   ]
  },
  {
   "cell_type": "markdown",
   "metadata": {},
   "source": [
    "In many real-world cases not the quantity considered but rather its logarithm happens to be distributed normally (e.g. activity of customers, population of cities etc)\n",
    "### lognormal distribution: \n",
    "$log(X)\\sim {\\cal N}(\\mu,\\sigma^2)$"
   ]
  },
  {
   "cell_type": "code",
   "execution_count": 45,
   "metadata": {},
   "outputs": [
    {
     "data": {
      "text/plain": [
       "(0, 1.1)"
      ]
     },
     "execution_count": 45,
     "metadata": {},
     "output_type": "execute_result"
    },
    {
     "data": {
      "image/png": "[encoded data removed]",
      "text/plain": [
       "<matplotlib.figure.Figure at 0x7f5261a65f10>"
      ]
     },
     "metadata": {},
     "output_type": "display_data"
    },
    {
     "data": {
      "image/png": "[encoded data removed]",
      "text/plain": [
       "<matplotlib.figure.Figure at 0x7f5261c7a6d0>"
      ]
     },
     "metadata": {},
     "output_type": "display_data"
    }
   ],
   "source": [
    "plt.figure()\n",
    "x=np.array(range(1,2000))*1.0\n",
    "mu=5\n",
    "sigma=1\n",
    "plt.title('PDF of a lognormal distribution')\n",
    "plt.plot(x,stats.norm.pdf(log(x),mu,sigma))\n",
    "plt.axvline(exp(mu), color='r', ls='--', lw=2.0)\n",
    "plt.ylim([0,0.45])\n",
    "plt.figure()\n",
    "plt.title('CDF of a lognormal distribution')\n",
    "plt.plot(x,stats.norm.cdf(log(x),mu,sigma))\n",
    "plt.ylim([0,1.1])"
   ]
  },
  {
   "cell_type": "markdown",
   "metadata": {},
   "source": [
    "## 4.4. Other useful distributions\n",
    "\n",
    "### Logistic distribution\n",
    "\n",
    "Probability Density Function\n",
    "$Logist(X=x)=F^\\prime(x)=\\displaystyle{\\frac{\\exp(-x)}{1+\\exp(-x)}}$\n",
    "\n",
    "Cumulative Density Function\n",
    "$F(x)=\\displaystyle{\\frac{1}{1+\\exp(-x)}}$\n",
    "\n",
    "$$\n",
    "\\mu=E[X]=0, \\sigma[X]=\\pi/\\sqrt{3}.\n",
    "$$\n",
    "\n",
    "### Exponential distribution\n",
    "\n",
    "Probability Density Function\n",
    "$$\n",
    "Exp(X=x|\\lambda)=\\left\\{\\begin{array}{ll}\\lambda e^{-\\lambda x}, & x\\geq 0\\\\0,& x<0 \\end{array}\\right.\n",
    "$$\n",
    "\n",
    "Cumulative Density Function\n",
    "$$\n",
    "F(x)=\\left\\{\\begin{array}{ll}1-e^{-\\lambda x}, & x\\geq 0\\\\0, & x<0\\end{array}\\right.\n",
    "$$\n",
    "\n",
    "$$\n",
    "\\mu=E[X]=\\sigma[X]=1/\\lambda\n",
    "$$\n",
    "\n",
    "### Laplace distibution\n",
    "\n",
    "Another related distribution is:\n",
    "\n",
    "$$\n",
    "Laplace(X=x|\\mu,\\sigma)=\\frac{1}{\\sqrt{2}\\sigma}e^{-\\frac{\\sqrt{2}|x-\\mu|}{\\sigma}}\n",
    "$$\n",
    "\n",
    "If $X\\sim Laplace$ then $|X-E[X]|\\sim Exp$. Also difference between two identically distributed exponential random variables follows a Laplace distribution. \n",
    "\n",
    "### Pareto distribution\n",
    "\n",
    "$$\n",
    "Pareto(X=x|x_m,\\alpha)=\\left\\{\\begin{array}{ll}\\frac{\\alpha x_m^\\alpha}{x^{\\alpha+1}}, & x\\geq x_m,\\\\\n",
    "0, & x<x_m.\\end{array}\\right.\n",
    "$$\n",
    "\n",
    "Continous version of often observed discrete power-law distributions, like Zipf law.\n",
    "\n",
    "### Gamma and Beta distributions:\n",
    "$$\n",
    "Gamma (X=x|\\alpha,\\beta)=\\frac{\\beta^\\alpha x^{\\alpha-1} e^{-x\\beta}}{\\Gamma(\\alpha)}\n",
    "$$$$\n",
    "Beta(X=x|\\alpha,\\beta)=\\frac{\\Gamma(\\alpha+\\beta)}{\\Gamma(\\alpha)\\Gamma(\\beta)}x^{\\alpha-1}(1-x)^{\\beta-1}\n",
    "$$"
   ]
  },
  {
   "cell_type": "markdown",
   "metadata": {},
   "source": [
    "# 5. Correlation\n",
    "\n",
    "Covarience:\n",
    "$$\n",
    "cov(X,Y)=E[(X-E[X])(Y-E[Y])]\n",
    "$$\n",
    "Pearson’s correlation coefficient:\n",
    "$$\n",
    "corr(X,Y)=\\frac{cov(X,Y)}{\\sigma[X] \\sigma[Y]} \n",
    "$$\n",
    "\n",
    "Now again consider a real estate prices example, this for multi-apartments houses in Bronx's zip code 10466, and see how they are correlated with the building square footage."
   ]
  },
  {
   "cell_type": "markdown",
   "metadata": {},
   "source": [
    "** Example 5.1. ** House prices in Bronx vs size"
   ]
  },
  {
   "cell_type": "code",
   "execution_count": 46,
   "metadata": {},
   "outputs": [
    {
     "data": {
      "text/html": [
       "<div>\n",
       "<table border=\"1\" class=\"dataframe\">\n",
       "  <thead>\n",
       "    <tr style=\"text-align: right;\">\n",
       "      <th></th>\n",
       "      <th>Size</th>\n",
       "      <th>Price</th>\n",
       "    </tr>\n",
       "  </thead>\n",
       "  <tbody>\n",
       "    <tr>\n",
       "      <th>0</th>\n",
       "      <td>7745</td>\n",
       "      <td>700000.0</td>\n",
       "    </tr>\n",
       "    <tr>\n",
       "      <th>1</th>\n",
       "      <td>3700</td>\n",
       "      <td>335000.0</td>\n",
       "    </tr>\n",
       "    <tr>\n",
       "      <th>2</th>\n",
       "      <td>5250</td>\n",
       "      <td>510000.0</td>\n",
       "    </tr>\n",
       "    <tr>\n",
       "      <th>3</th>\n",
       "      <td>4082</td>\n",
       "      <td>285000.0</td>\n",
       "    </tr>\n",
       "    <tr>\n",
       "      <th>4</th>\n",
       "      <td>4082</td>\n",
       "      <td>198558.0</td>\n",
       "    </tr>\n",
       "  </tbody>\n",
       "</table>\n",
       "</div>"
      ],
      "text/plain": [
       "   Size     Price\n",
       "0  7745  700000.0\n",
       "1  3700  335000.0\n",
       "2  5250  510000.0\n",
       "3  4082  285000.0\n",
       "4  4082  198558.0"
      ]
     },
     "execution_count": 46,
     "metadata": {},
     "output_type": "execute_result"
    }
   ],
   "source": [
    "#read data in pandas\n",
    "E51=pd.read_csv('data/NYC_RE_10466_multi.csv'); E51.head()"
   ]
  },
  {
   "cell_type": "code",
   "execution_count": 47,
   "metadata": {},
   "outputs": [
    {
     "data": {
      "text/plain": [
       "<matplotlib.text.Text at 0x7f5262176390>"
      ]
     },
     "execution_count": 47,
     "metadata": {},
     "output_type": "execute_result"
    },
    {
     "data": {
      "image/png": "[encoded data removed]",
      "text/plain": [
       "<matplotlib.figure.Figure at 0x7f526215b490>"
      ]
     },
     "metadata": {},
     "output_type": "display_data"
    }
   ],
   "source": [
    "#scatter plot of Price vs Size - we see they are related\n",
    "plt.figure()\n",
    "plt.plot(E51.Size,E51.Price,'og')\n",
    "plt.xlabel('Size')\n",
    "plt.ylabel('Price')"
   ]
  },
  {
   "cell_type": "code",
   "execution_count": 48,
   "metadata": {},
   "outputs": [
    {
     "data": {
      "text/plain": [
       "<matplotlib.text.Text at 0x7f5261e26b10>"
      ]
     },
     "execution_count": 48,
     "metadata": {},
     "output_type": "execute_result"
    },
    {
     "data": {
      "image/png": "[encoded data removed]",
      "text/plain": [
       "<matplotlib.figure.Figure at 0x7f5261a59350>"
      ]
     },
     "metadata": {},
     "output_type": "display_data"
    }
   ],
   "source": [
    "#show the averages E[Price], E[Size]\n",
    "plt.figure()\n",
    "plt.plot(E51.Size,E51.Price,'og')\n",
    "plt.xlabel('Size')\n",
    "plt.ylabel('Price')\n",
    "plt.axvline(E51.Size.mean(), color='r', ls='--', lw=2.0)\n",
    "plt.text(2e4,8e6,'E[Size]',rotation=0)\n",
    "plt.axhline(E51.Price.mean(), color='r', ls='--', lw=2.0)\n",
    "plt.text(8e4,2e6,'E[Price]',rotation=0)"
   ]
  },
  {
   "cell_type": "markdown",
   "metadata": {},
   "source": [
    "Recall Covarience:\n",
    "$$\n",
    "cov(X,Y)=E[(X-E[X])(Y-E[Y])]\n",
    "$$\n",
    "And Pearson’s correlation coefficient (normalized covariance):\n",
    "$$\n",
    "corr(X,Y)=\\frac{cov(X,Y)}{\\sigma[X] \\sigma[Y]} \n",
    "$$\n",
    "Every time both X and Y are above or below averages together, covariance is positive impacted\\ \n",
    "Otherwise its negatively impacted"
   ]
  },
  {
   "cell_type": "code",
   "execution_count": 49,
   "metadata": {},
   "outputs": [
    {
     "data": {
      "text/html": [
       "<div>\n",
       "<table border=\"1\" class=\"dataframe\">\n",
       "  <thead>\n",
       "    <tr style=\"text-align: right;\">\n",
       "      <th></th>\n",
       "      <th>Size</th>\n",
       "      <th>Price</th>\n",
       "    </tr>\n",
       "  </thead>\n",
       "  <tbody>\n",
       "    <tr>\n",
       "      <th>Size</th>\n",
       "      <td>1.000000</td>\n",
       "      <td>0.926478</td>\n",
       "    </tr>\n",
       "    <tr>\n",
       "      <th>Price</th>\n",
       "      <td>0.926478</td>\n",
       "      <td>1.000000</td>\n",
       "    </tr>\n",
       "  </tbody>\n",
       "</table>\n",
       "</div>"
      ],
      "text/plain": [
       "           Size     Price\n",
       "Size   1.000000  0.926478\n",
       "Price  0.926478  1.000000"
      ]
     },
     "execution_count": 49,
     "metadata": {},
     "output_type": "execute_result"
    }
   ],
   "source": [
    "E51.corr()"
   ]
  },
  {
   "cell_type": "code",
   "execution_count": 50,
   "metadata": {},
   "outputs": [
    {
     "data": {
      "text/plain": [
       "array([[ 1.        ,  0.92647799],\n",
       "       [ 0.92647799,  1.        ]])"
      ]
     },
     "execution_count": 50,
     "metadata": {},
     "output_type": "execute_result"
    }
   ],
   "source": [
    "np.corrcoef(E51.Size,E51.Price)"
   ]
  },
  {
   "cell_type": "code",
   "execution_count": 51,
   "metadata": {},
   "outputs": [
    {
     "data": {
      "text/plain": [
       "0.92647798713990281"
      ]
     },
     "execution_count": 51,
     "metadata": {},
     "output_type": "execute_result"
    }
   ],
   "source": [
    "from scipy.stats.stats import pearsonr\n",
    "pearsonr(E51.Size,E51.Price)[0]"
   ]
  },
  {
   "cell_type": "markdown",
   "metadata": {},
   "source": [
    "One can see that \n",
    "$$\n",
    "-1\\leq corr(X,Y)\\leq 1\n",
    "$$ \n",
    "and $\\pm 1$ are acheivable if and only if dependence between $X,Y$ is linear. \n",
    "\n",
    "Negative correlation means $Y$ decreases while $X$ increases.\n",
    "\n",
    "Correlation above $60\\%$ or below $-60\\%$ is usually considered strong.\n",
    "\n",
    "Between $\\pm 40\\%$ and $\\pm 60\\%$ is usually considered moderate.\n",
    "\n",
    "Between $\\pm 20\\%$ and $\\pm 40\\%$ is usually considered weak.\n",
    "\n",
    "Correlations around $0\\%$ are fairly random."
   ]
  },
  {
   "cell_type": "markdown",
   "metadata": {},
   "source": [
    "# 6. Conditional probabilities and Bayes theorem\n",
    "\n",
    "Conditional probability: $P(Y|X)$ - Y happens is X happened.\n",
    "\n",
    "E.g. the total passing ratio on exam is 80%:\n",
    "$$\n",
    "P(pass)=80\\%.\n",
    "$$\n",
    "\n",
    "However among the students who prepared the oddes of passing exam are 90%:\n",
    "$$\n",
    "P(pass|prepared)=90\\%,\n",
    "$$\n",
    "while among those who did not only 60%:\n",
    "$$\n",
    "P(pass|not prepared)=60\\%.\n",
    "$$\n",
    "\n",
    "What it does - it simply narrows down a set of possibilities\n",
    "\n",
    "** Example 6.1. ** Take a number of 1 to 10; Y - number is full square (1, 4 or 9). $P(Y)=3/10=0.3$. $X$ - number is even (2,4,6,8,10). $P(Y|X)=1/5=0.2$.\n",
    "\n",
    "Events $X$ and $Y$ are independent if and only if $P(Y|X)=P(Y)$.\n",
    "\n",
    "Some useful rules below.\n",
    "\n",
    "Multiplication rule\n",
    "$$\n",
    "P(X \\cap Y)=P(Y|X)P(X).\n",
    "$$\n",
    "In case of independent events\n",
    "$$\n",
    "P(X \\cap Y)=P(X)P(Y)\n",
    "$$\n",
    "However then\n",
    "$$\n",
    "P(Y|X)P(X)=P(X \\cap Y)=P(X|Y)P(Y)\n",
    "$$\n",
    "meaning that\n",
    "$$\n",
    "P(X|Y)=\\frac{P(Y|X)P(X)}{P(Y)}\n",
    "$$\n",
    "This is known as ** Bayes theorem **.\n",
    "\n",
    "Summation rule\n",
    "$$\n",
    "P(Y)=P(Y\\cap X)+P(Y\\cap \\overline{X})=P(Y|X)P(X)+P(Y|\\overline{X})P(\\overline{X})\n",
    "$$"
   ]
  },
  {
   "cell_type": "markdown",
   "metadata": {},
   "source": [
    "** Example 6.2. ** Recall students passing/failing exam. The overall percentage of passes is 80%. Say we ran an anonimous survey and know that among those who prepared, 90% passed, among those who did not - only 60%.\n",
    "\n",
    "A) How many student prepared?\n",
    "\n",
    "B) If we meet a random student who failed an exam what are the odds he/she did not prepare?"
   ]
  },
  {
   "cell_type": "markdown",
   "metadata": {},
   "source": [
    "A) What we know is\n",
    "$$\n",
    "P(pass)=80\\%.\n",
    "$$\n",
    "$$\n",
    "P(pass|prepared)=90\\%,\n",
    "$$\n",
    "$$\n",
    "P(pass|not\\ prepared)=60\\%.\n",
    "$$\n",
    "What we need to find is $P(prepared)$. This can be done using summation rule\n",
    "$$\n",
    "0.8=P(pass)=P(pass|prepared)P(prepared)+P(pass|not\\ prepared)P(not\\ prepared)=\n",
    "$$$$\n",
    "=0.9 P(prepared)+0.6(1-P(prepared))=0.3 P(prepared) + 0.6,\n",
    "$$\n",
    "i.e.\n",
    "$$\n",
    "P(prepared)=(0.8-0.6)/0.3=2/3.\n",
    "$$"
   ]
  },
  {
   "cell_type": "markdown",
   "metadata": {},
   "source": [
    "B) We know all as above, what we need to find is $P(not prepared|fail)$.\n",
    "$$\n",
    "P(not\\ prepared|fail)=\\frac{P(fail|not\\ prepared)P(not\\ prepared)}{P(fail)}=\n",
    "$$$$\n",
    "=\\frac{1-P(pass|not\\ prepared))(1-P(prepared)}{1-P(pass)}=\\frac{(1-0.6)(1-2/3)}{1-0.8}=0.4\\cdot (1/3)/0.2=2/3.\n",
    "$$"
   ]
  },
  {
   "cell_type": "markdown",
   "metadata": {},
   "source": [
    "** Example 6.3.** Bayes theorem and linear regression\n",
    "\n",
    "One can write a linear regression \n",
    "$$\n",
    "y=wx+\\varepsilon,\n",
    "$$\n",
    "where\n",
    "$$\n",
    "\\varepsilon\\sim {\\cal N}(0,\\sigma^2)\n",
    "$$\n",
    "as a probabilistic model\n",
    "$$\n",
    "y\\sim {\\cal N}(wx,\\sigma^2).\n",
    "$$\n",
    "This gives a propability $P(y|w,x)$ of observing certain value of $y$ given input $x$ and parameter $w$.\n",
    "\n",
    "*How do we find $w$?*\n",
    "\n",
    "Let's flip the probabilities like in Bayes theorem\n",
    "$$\n",
    "P(w|y,x)\\sim \\frac{P(y|w,x)P(w)}{P(y)}\n",
    "$$\n",
    "As the overall chance $P(y)$ of observing the output $y$ regarless of the model does not depend on $w$ and given certain inital (prior) beliefs about $w$ (e.g. uninformed prior $P(w)\\sim {\\cal N}(0,V)$ for large enough $V$) one can get the posterior distribution\n",
    "$$\n",
    "P(w|y,x)\\sim \\phi(y|wx,\\sigma^2)\\phi(w|0,V).\n",
    "$$\n",
    "This given us not only a certain most probable value of $w$ maximizing the right-hand size, but also an entire probability distribution for it, capable of answering any probabilistic question about $w$, such as what is the chance that it belongs to a certain interval or what is the interval to which say 95% of most probably values of $w$ belong.\n",
    "\n",
    "This approach is called Bayesian inference and it provides perhaps the most intuitive approach to confidence intervals, hypothesis testing (p-values) and regularization for the linear regression."
   ]
  },
  {
   "cell_type": "code",
   "execution_count": null,
   "metadata": {},
   "outputs": [],
   "source": []
  }
 ],
 "metadata": {
  "kernelspec": {
   "display_name": "PUI2016_Python2",
   "language": "python",
   "name": "pui2016_python2"
  },
  "language_info": {
   "codemirror_mode": {
    "name": "ipython",
    "version": 2
   },
   "file_extension": ".py",
   "mimetype": "text/x-python",
   "name": "python",
   "nbconvert_exporter": "python",
   "pygments_lexer": "ipython2",
   "version": "2.7.12"
  }
 },
 "nbformat": 4,
 "nbformat_minor": 1
}
