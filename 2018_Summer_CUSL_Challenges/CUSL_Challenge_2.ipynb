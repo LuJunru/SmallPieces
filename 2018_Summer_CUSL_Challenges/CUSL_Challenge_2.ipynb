{
 "cells": [
  {
   "cell_type": "code",
   "execution_count": 1,
   "metadata": {},
   "outputs": [],
   "source": [
    "# CUSL Challenge 2"
   ]
  },
  {
   "cell_type": "code",
   "execution_count": 2,
   "metadata": {},
   "outputs": [
    {
     "name": "stdout",
     "output_type": "stream",
     "text": [
      "Pleas input column count: 3\n",
      "Pleas input line count: 5\n"
     ]
    },
    {
     "data": {
      "text/plain": [
       "[[0, 0, 0, 0, 0], [0, 1, 2, 3, 4], [0, 2, 4, 6, 8]]"
      ]
     },
     "execution_count": 2,
     "metadata": {},
     "output_type": "execute_result"
    }
   ],
   "source": [
    "# Task1: Write a program which takes 2 digits, X,Y as input and generates a 2-dimensional array. The element value in the i-th row and j-th column of the array should be i * j.\n",
    "def Matrix():\n",
    "    index1 = raw_input(\"Pleas input column count: \")\n",
    "    index2 = raw_input(\"Pleas input line count: \")\n",
    "    output = [[x * y for y in range(int(index2))] for x in range(int(index1))]\n",
    "    return output\n",
    "Matrix()"
   ]
  },
  {
   "cell_type": "code",
   "execution_count": 3,
   "metadata": {},
   "outputs": [
    {
     "data": {
      "text/plain": [
       "[1,\n",
       " 4,\n",
       " 9,\n",
       " 16,\n",
       " 25,\n",
       " 36,\n",
       " 49,\n",
       " 64,\n",
       " 81,\n",
       " 100,\n",
       " 121,\n",
       " 144,\n",
       " 169,\n",
       " 196,\n",
       " 225,\n",
       " 256,\n",
       " 289,\n",
       " 324,\n",
       " 361,\n",
       " 400]"
      ]
     },
     "execution_count": 3,
     "metadata": {},
     "output_type": "execute_result"
    }
   ],
   "source": [
    "# Task2: Define a function which can generate and print a list where the values are square of numbers between 1 and 20\n",
    "def Square20():\n",
    "    return [i ** 2 for i in range(1, 21)]\n",
    "Square20()"
   ]
  },
  {
   "cell_type": "code",
   "execution_count": 4,
   "metadata": {},
   "outputs": [
    {
     "name": "stdout",
     "output_type": "stream",
     "text": [
      "Please input your value list: 100,150,180\n"
     ]
    },
    {
     "data": {
      "text/plain": [
       "[18, 22, 24]"
      ]
     },
     "execution_count": 4,
     "metadata": {},
     "output_type": "execute_result"
    }
   ],
   "source": [
    "# Task3: Write a program that calculates and prints the value according to the given formula\n",
    "def Q():\n",
    "    D_sen = raw_input(\"Please input your value list: \")\n",
    "    D_list = D_sen.strip().split(',')\n",
    "    C = 50.0\n",
    "    H = 30.0\n",
    "    return [int(((2 * int(D) * C) / H) ** 0.5) for D in D_list]\n",
    "Q()"
   ]
  },
  {
   "cell_type": "code",
   "execution_count": 12,
   "metadata": {},
   "outputs": [
    {
     "name": "stdout",
     "output_type": "stream",
     "text": [
      "Please input your sentence: Far far away, behind the mountains, away from the countries\n"
     ]
    },
    {
     "data": {
      "text/plain": [
       "[('Far', 1),\n",
       " ('away', 1),\n",
       " ('away,', 1),\n",
       " ('behind', 1),\n",
       " ('countries', 1),\n",
       " ('far', 1),\n",
       " ('from', 1),\n",
       " ('mountains,', 1),\n",
       " ('the', 2)]"
      ]
     },
     "execution_count": 12,
     "metadata": {},
     "output_type": "execute_result"
    }
   ],
   "source": [
    "# Task4: Write a program to compute the frequency of the words from the input. The output should print after sorting the key alphanumerically.\n",
    "def Senfrequency():\n",
    "    sentence = raw_input(\"Please input your sentence: \")\n",
    "    sen_list = sentence.strip().split(' ')\n",
    "    final_list = list(set([(word, sen_list.count(word)) for word in sen_list]))\n",
    "    final_list.sort()\n",
    "    return final_list\n",
    "Senfrequency()"
   ]
  },
  {
   "cell_type": "code",
   "execution_count": 14,
   "metadata": {},
   "outputs": [
    {
     "name": "stdout",
     "output_type": "stream",
     "text": [
      "Please input your sentence: Far far away, behind the mountains, away from the countries\n"
     ]
    },
    {
     "data": {
      "text/plain": [
       "[('away', 2),\n",
       " ('behind', 1),\n",
       " ('countries', 1),\n",
       " ('far', 2),\n",
       " ('from', 1),\n",
       " ('mountains', 1),\n",
       " ('the', 2)]"
      ]
     },
     "execution_count": 14,
     "metadata": {},
     "output_type": "execute_result"
    }
   ],
   "source": [
    "# Task4 bonus: \n",
    "\"\"\"\n",
    "1.Try for Case-Insensitive i.e USCL = ucsl = Ucsl = uCSL ... Hint, you will have to use regular expressions. Refer Python Regex to learn more.\n",
    "2.Do not consider punctuations i.e Hello, world should consider Hello and world and neglect the \",\".\n",
    "\"\"\"\n",
    "import string\n",
    "\n",
    "exclude = set(string.punctuation)\n",
    "def Senfrequency():\n",
    "    sentence = raw_input(\"Please input your sentence: \")\n",
    "    sentence = ''.join(ch for ch in sentence if ch not in exclude)\n",
    "    sen_list = [w.lower() for w in sentence.strip().split(' ')]\n",
    "    final_list = list(set([(word, sen_list.count(word)) for word in sen_list]))\n",
    "    final_list.sort()\n",
    "    return final_list\n",
    "\n",
    "Senfrequency()"
   ]
  },
  {
   "cell_type": "code",
   "execution_count": null,
   "metadata": {},
   "outputs": [],
   "source": []
  }
 ],
 "metadata": {
  "kernelspec": {
   "display_name": "PUI2016_Python2",
   "language": "python",
   "name": "pui2016_python2"
  },
  "language_info": {
   "codemirror_mode": {
    "name": "ipython",
    "version": 2
   },
   "file_extension": ".py",
   "mimetype": "text/x-python",
   "name": "python",
   "nbconvert_exporter": "python",
   "pygments_lexer": "ipython2",
   "version": "2.7.12"
  }
 },
 "nbformat": 4,
 "nbformat_minor": 2
}
