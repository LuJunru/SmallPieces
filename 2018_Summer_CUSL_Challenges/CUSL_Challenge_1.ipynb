{
 "cells": [
  {
   "cell_type": "code",
   "execution_count": 1,
   "metadata": {},
   "outputs": [],
   "source": [
    "# CUSL Challenge 1"
   ]
  },
  {
   "cell_type": "code",
   "execution_count": 8,
   "metadata": {},
   "outputs": [
    {
     "data": {
      "text/plain": [
       "'Hi'"
      ]
     },
     "execution_count": 8,
     "metadata": {},
     "output_type": "execute_result"
    }
   ],
   "source": [
    "# Task1: Given a string, return a \"rotated left 2\" version where the first 2 chars are moved to the end. The string length will be at least 2.\n",
    "def Stringmove(word):\n",
    "    if len(word) < 2:\n",
    "        return \"Your string is too short\"\n",
    "    else:\n",
    "        new_word = word[2:] + word[:2]\n",
    "        return \"\".join(new_word)\n",
    "Stringmove(\"Hello\")\n",
    "Stringmove(\"Java\")\n",
    "Stringmove(\"Hi\")"
   ]
  },
  {
   "cell_type": "code",
   "execution_count": 9,
   "metadata": {},
   "outputs": [
    {
     "name": "stdout",
     "output_type": "stream",
     "text": [
      "1\n",
      "2\n",
      "3\n",
      "4\n",
      "5\n",
      "6\n",
      "7\n",
      "8\n",
      "9\n"
     ]
    }
   ],
   "source": [
    "# Task2: Change the following Python code from using a while loop to for loop:\n",
    "\"\"\"\n",
    "x=1\n",
    "while x<10:\n",
    "       print x,\n",
    "       x+=1\n",
    "\"\"\"\n",
    "for x in range(1, 10):\n",
    "    print(x)"
   ]
  },
  {
   "cell_type": "code",
   "execution_count": 14,
   "metadata": {},
   "outputs": [
    {
     "name": "stdout",
     "output_type": "stream",
     "text": [
      "LETTERS 10\n",
      "DIGITS 3\n"
     ]
    }
   ],
   "source": [
    "# Task3: Write a program that accepts a sentence and calculate the number of letters and digits. Suppose the following input is supplied to the program:\n",
    "def Sendescribe(sentence):\n",
    "    letter_count = [letter for letter in sentence if letter.isalpha() == True]\n",
    "    digits_count = [digits for digits in sentence if digits.isdigit() == True]\n",
    "    return (len(letter_count), len(digits_count))\n",
    "results = Sendescribe(\"hello world! 123\")\n",
    "print(\"LETTERS \" + str(results[0]))\n",
    "print(\"DIGITS \" + str(results[1]))"
   ]
  },
  {
   "cell_type": "code",
   "execution_count": 18,
   "metadata": {},
   "outputs": [
    {
     "data": {
      "text/plain": [
       "500"
      ]
     },
     "execution_count": 18,
     "metadata": {},
     "output_type": "execute_result"
    }
   ],
   "source": [
    "# Task4: Write a program that computes the net amount of a bank account based a transaction log from console input. The transaction log format is shown as following:\n",
    "def Banknet(records):\n",
    "    amount = 0\n",
    "    for record in records:\n",
    "        if record[0] == \"W\":\n",
    "            amount -= record[1]\n",
    "        elif record[0] == \"D\":\n",
    "            amount += record[1]\n",
    "        else:\n",
    "            return \"Wrong records!\"\n",
    "    return amount\n",
    "Banknet([(\"D\", 300), (\"D\", 300), (\"W\", 200), (\"D\", 100)])"
   ]
  },
  {
   "cell_type": "code",
   "execution_count": 21,
   "metadata": {},
   "outputs": [
    {
     "data": {
      "text/plain": [
       "'Weak Password'"
      ]
     },
     "execution_count": 21,
     "metadata": {},
     "output_type": "execute_result"
    }
   ],
   "source": [
    "# Task5: A website requires the users to input username and password to register. Write a program to check the validity of password input by users.\n",
    "\"\"\"\n",
    "Following are the criteria for checking the password:\n",
    "\n",
    "1. At least 1 letter between [a-z]\n",
    "2. At least 1 number between [0-9]\n",
    "1. At least 1 letter between [A-Z]\n",
    "3. At least 1 character from [$#@]\n",
    "4. Minimum length of transaction password: 6\n",
    "5. Maximum length of transaction password: 12\n",
    "\"\"\"\n",
    "def Passwordcheck(password):\n",
    "    if len(password) not in range(6, 13):\n",
    "        return \"Weak Password\"\n",
    "    else:\n",
    "        letter_count = len([letter for letter in password if letter.islower() == True])\n",
    "        number_count = len([letter for letter in password if letter.isdigit() == True])\n",
    "        capital_letter_count = len([letter for letter in password if letter.isupper() == True])\n",
    "        specific_letter_count = len([letter for letter in password if letter in [\"$\", \"#\", \"@\"]])\n",
    "        if (letter_count >= 1) and (number_count >= 1) and (capital_letter_count >= 1) and (specific_letter_count >= 1):\n",
    "            return \"Strong Password\"\n",
    "        else:\n",
    "            return \"Weak Password\"\n",
    "Passwordcheck(\"ABd1234@1\")\n",
    "Passwordcheck(\"a F1# 2w3E* 2We3345\")"
   ]
  },
  {
   "cell_type": "code",
   "execution_count": null,
   "metadata": {},
   "outputs": [],
   "source": []
  }
 ],
 "metadata": {
  "kernelspec": {
   "display_name": "PUI2016_Python2",
   "language": "python",
   "name": "pui2016_python2"
  },
  "language_info": {
   "codemirror_mode": {
    "name": "ipython",
    "version": 2
   },
   "file_extension": ".py",
   "mimetype": "text/x-python",
   "name": "python",
   "nbconvert_exporter": "python",
   "pygments_lexer": "ipython2",
   "version": "2.7.12"
  }
 },
 "nbformat": 4,
 "nbformat_minor": 2
}
