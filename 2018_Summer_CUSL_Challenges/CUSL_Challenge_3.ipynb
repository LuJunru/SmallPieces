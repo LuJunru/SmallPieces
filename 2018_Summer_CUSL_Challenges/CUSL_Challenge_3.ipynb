{
 "cells": [
  {
   "cell_type": "code",
   "execution_count": 33,
   "metadata": {},
   "outputs": [
    {
     "name": "stdout",
     "output_type": "stream",
     "text": [
      "Tasks: \n",
      "1. Take dog for a walk, priority=2, ddl=2018-09-26 17:17:33.988941\n",
      "2. Submit Challenge 3 solutions, priority=1, ddl=2018-09-26 17:17:33.988970\n"
     ]
    }
   ],
   "source": [
    "import datetime\n",
    "\n",
    "# Todolist = [(task1, priority1, ddl1), (task2, priority2, ddl2)...(taskn, priorityn, ddln)]\n",
    "Todolist = []\n",
    "\n",
    "def addTask(task, priority):\n",
    "    Todolist.append((task, priority, str(datetime.datetime.now())))\n",
    "    return Todolist\n",
    "\n",
    "def viewTask():\n",
    "    print(\"Tasks: \")\n",
    "    for task_index in range(len(Todolist)):\n",
    "        print(\"%s. %s, priority=%s, ddl=%s\"%(task_index + 1, Todolist[task_index][0], Todolist[task_index][1], Todolist[task_index][2]))\n",
    "\n",
    "def delTask(index):\n",
    "    Todolist.pop(index - 1)\n",
    "    return Todolist\n",
    "\n",
    "def PriSort():\n",
    "    return sorted(Todolist, key=lambda x : x[1])\n",
    "\n",
    "def DDLSort():\n",
    "    return sorted(Todolist, key=lambda x : x[2], reverse=True)\n",
    "\n",
    "addTask('Take dog for a walk', 2)\n",
    "addTask('Submit Challenge 3 solutions', 1)\n",
    "viewTask()"
   ]
  },
  {
   "cell_type": "code",
   "execution_count": 34,
   "metadata": {},
   "outputs": [
    {
     "data": {
      "text/plain": [
       "[('Submit Challenge 3 solutions', 1, '2018-09-26 17:17:33.988970'),\n",
       " ('Take dog for a walk', 2, '2018-09-26 17:17:33.988941')]"
      ]
     },
     "execution_count": 34,
     "metadata": {},
     "output_type": "execute_result"
    }
   ],
   "source": [
    "PriSort()"
   ]
  },
  {
   "cell_type": "code",
   "execution_count": 35,
   "metadata": {},
   "outputs": [
    {
     "data": {
      "text/plain": [
       "[('Submit Challenge 3 solutions', 1, '2018-09-26 17:17:33.988970'),\n",
       " ('Take dog for a walk', 2, '2018-09-26 17:17:33.988941')]"
      ]
     },
     "execution_count": 35,
     "metadata": {},
     "output_type": "execute_result"
    }
   ],
   "source": [
    "DDLSort()"
   ]
  },
  {
   "cell_type": "code",
   "execution_count": 36,
   "metadata": {},
   "outputs": [
    {
     "name": "stdout",
     "output_type": "stream",
     "text": [
      "Tasks: \n",
      "1. Take dog for a walk, priority=2, ddl=2018-09-26 17:17:33.988941\n",
      "2. Submit Challenge 3 solutions, priority=1, ddl=2018-09-26 17:17:33.988970\n"
     ]
    }
   ],
   "source": [
    "viewTask()"
   ]
  },
  {
   "cell_type": "code",
   "execution_count": 37,
   "metadata": {},
   "outputs": [
    {
     "name": "stdout",
     "output_type": "stream",
     "text": [
      "Tasks: \n",
      "1. Submit Challenge 3 solutions, priority=1, ddl=2018-09-26 17:17:33.988970\n"
     ]
    }
   ],
   "source": [
    "delTask(1)\n",
    "viewTask()"
   ]
  },
  {
   "cell_type": "code",
   "execution_count": 39,
   "metadata": {},
   "outputs": [
    {
     "name": "stdout",
     "output_type": "stream",
     "text": [
      "Tasks: \n",
      "1. Submit Challenge 3 solutions, priority=1, ddl=2018-09-26 17:17:33.988970\n",
      "2. Take dog for a walk, priority=2, ddl=2018-09-26 17:17:53.533520\n"
     ]
    }
   ],
   "source": [
    "addTask('Take dog for a walk', 2)\n",
    "viewTask()"
   ]
  },
  {
   "cell_type": "markdown",
   "metadata": {},
   "source": [
    "==============="
   ]
  },
  {
   "cell_type": "markdown",
   "metadata": {},
   "source": [
    "# Weight"
   ]
  },
  {
   "cell_type": "code",
   "execution_count": 10,
   "metadata": {},
   "outputs": [],
   "source": [
    "import math"
   ]
  },
  {
   "cell_type": "code",
   "execution_count": 13,
   "metadata": {},
   "outputs": [],
   "source": [
    "Mass = 75\n",
    "G = 6.67e-11"
   ]
  },
  {
   "cell_type": "code",
   "execution_count": 14,
   "metadata": {},
   "outputs": [
    {
     "name": "stdout",
     "output_type": "stream",
     "text": [
      "Mercury: 277.442\n"
     ]
    }
   ],
   "source": [
    "def Gravity(mass, Planet_records):\n",
    "    Planet_info = Planet_records.strip().split(\", \")\n",
    "    Planet_name = Planet_info[0]\n",
    "    Planet_radius = int(Planet_info[1])\n",
    "    Planet_dense = int(Planet_info[2])\n",
    "    Planet_volume = (4/3) * math.pi * (Planet_radius ** 3)\n",
    "    Planet_mass = Planet_volume * Planet_dense\n",
    "    gravity = G * Planet_mass * mass / (Planet_radius ** 2)\n",
    "    print(\"%s: %.3f\"%(Planet_name, gravity))\n",
    "Gravity(Mass, \"Mercury, 2439700, 5427\")"
   ]
  },
  {
   "cell_type": "code",
   "execution_count": 15,
   "metadata": {},
   "outputs": [
    {
     "name": "stdout",
     "output_type": "stream",
     "text": [
      "Venus: 664.886\n"
     ]
    }
   ],
   "source": [
    "Gravity(Mass, \"Venus, 6051900, 5243\")"
   ]
  },
  {
   "cell_type": "code",
   "execution_count": null,
   "metadata": {},
   "outputs": [],
   "source": []
  }
 ],
 "metadata": {
  "kernelspec": {
   "display_name": "Python 3",
   "language": "python",
   "name": "python3"
  },
  "language_info": {
   "codemirror_mode": {
    "name": "ipython",
    "version": 3
   },
   "file_extension": ".py",
   "mimetype": "text/x-python",
   "name": "python",
   "nbconvert_exporter": "python",
   "pygments_lexer": "ipython3",
   "version": "3.6.4"
  }
 },
 "nbformat": 4,
 "nbformat_minor": 2
}
