{
 "cells": [
  {
   "cell_type": "markdown",
   "metadata": {},
   "source": [
    "## Part 6. Pandas"
   ]
  },
  {
   "cell_type": "markdown",
   "metadata": {},
   "source": [
    "Pandas is another useful package - a key one for data science. So far Python data structures we considered, while useful, might feel a bit absract. There is still a way to go between a data source (e.g. csv file) and abstract constructions such as lists, dictionaries or numpy arrays and it might not be that clear how to get the least from the first.\n",
    "\n",
    "Pandas bridges that gap literally in one click.\n",
    "\n",
    "It implements data tables (dataframes) which can be directly uploaded into the notebook from a csv or other data file. Pandas dataframes can contain multiple columns with data of arbitrary type - numerical, string or date-time. They also provide common relational database functionality. \n",
    "\n",
    "In short, Pandas dataframes enable real-world data analytics."
   ]
  },
  {
   "cell_type": "markdown",
   "metadata": {},
   "source": [
    "Below read weather data for NYC. Max, Min and Average daily temperature as well as precipitation are measured for several locations accross the city, defined by their latitute-longituide"
   ]
  },
  {
   "cell_type": "code",
   "execution_count": 1,
   "metadata": {},
   "outputs": [],
   "source": [
    "#import pandas\n",
    "import pandas as pd"
   ]
  },
  {
   "cell_type": "code",
   "execution_count": 3,
   "metadata": {},
   "outputs": [],
   "source": [
    "#read DataFrame from csv file\n",
    "WD=pd.read_csv('data/weather_daily.csv');"
   ]
  },
  {
   "cell_type": "code",
   "execution_count": 4,
   "metadata": {},
   "outputs": [
    {
     "data": {
      "text/html": [
       "<div>\n",
       "<table border=\"1\" class=\"dataframe\">\n",
       "  <thead>\n",
       "    <tr style=\"text-align: right;\">\n",
       "      <th></th>\n",
       "      <th>date</th>\n",
       "      <th>maxtemp</th>\n",
       "      <th>mintemp</th>\n",
       "      <th>avgtemp</th>\n",
       "      <th>precipitation</th>\n",
       "      <th>snowfall</th>\n",
       "      <th>latitude</th>\n",
       "      <th>longitude</th>\n",
       "    </tr>\n",
       "  </thead>\n",
       "  <tbody>\n",
       "    <tr>\n",
       "      <th>0</th>\n",
       "      <td>1/1/11 0:00</td>\n",
       "      <td>51</td>\n",
       "      <td>38</td>\n",
       "      <td>44.5</td>\n",
       "      <td>0</td>\n",
       "      <td>0</td>\n",
       "      <td>40.84</td>\n",
       "      <td>-73.85</td>\n",
       "    </tr>\n",
       "    <tr>\n",
       "      <th>1</th>\n",
       "      <td>1/2/11 0:00</td>\n",
       "      <td>52</td>\n",
       "      <td>38</td>\n",
       "      <td>45</td>\n",
       "      <td>0.01</td>\n",
       "      <td>0</td>\n",
       "      <td>40.84</td>\n",
       "      <td>-73.85</td>\n",
       "    </tr>\n",
       "    <tr>\n",
       "      <th>2</th>\n",
       "      <td>1/3/11 0:00</td>\n",
       "      <td>38</td>\n",
       "      <td>29</td>\n",
       "      <td>33.5</td>\n",
       "      <td>0</td>\n",
       "      <td>0</td>\n",
       "      <td>40.84</td>\n",
       "      <td>-73.85</td>\n",
       "    </tr>\n",
       "    <tr>\n",
       "      <th>3</th>\n",
       "      <td>1/4/11 0:00</td>\n",
       "      <td>42</td>\n",
       "      <td>32</td>\n",
       "      <td>37</td>\n",
       "      <td>0</td>\n",
       "      <td>0</td>\n",
       "      <td>40.84</td>\n",
       "      <td>-73.85</td>\n",
       "    </tr>\n",
       "    <tr>\n",
       "      <th>4</th>\n",
       "      <td>1/5/11 0:00</td>\n",
       "      <td>40</td>\n",
       "      <td>32</td>\n",
       "      <td>36</td>\n",
       "      <td>0</td>\n",
       "      <td>0</td>\n",
       "      <td>40.84</td>\n",
       "      <td>-73.85</td>\n",
       "    </tr>\n",
       "  </tbody>\n",
       "</table>\n",
       "</div>"
      ],
      "text/plain": [
       "          date maxtemp mintemp avgtemp precipitation snowfall  latitude  \\\n",
       "0  1/1/11 0:00      51      38    44.5             0        0     40.84   \n",
       "1  1/2/11 0:00      52      38      45          0.01        0     40.84   \n",
       "2  1/3/11 0:00      38      29    33.5             0        0     40.84   \n",
       "3  1/4/11 0:00      42      32      37             0        0     40.84   \n",
       "4  1/5/11 0:00      40      32      36             0        0     40.84   \n",
       "\n",
       "   longitude  \n",
       "0     -73.85  \n",
       "1     -73.85  \n",
       "2     -73.85  \n",
       "3     -73.85  \n",
       "4     -73.85  "
      ]
     },
     "execution_count": 4,
     "metadata": {},
     "output_type": "execute_result"
    }
   ],
   "source": [
    "#the entire dataframe is too big too see, but a glimpse into it could be made by the method head()\n",
    "WD.head()"
   ]
  },
  {
   "cell_type": "code",
   "execution_count": 6,
   "metadata": {},
   "outputs": [
    {
     "data": {
      "text/html": [
       "<div>\n",
       "<table border=\"1\" class=\"dataframe\">\n",
       "  <thead>\n",
       "    <tr style=\"text-align: right;\">\n",
       "      <th></th>\n",
       "      <th>latitude</th>\n",
       "      <th>longitude</th>\n",
       "    </tr>\n",
       "  </thead>\n",
       "  <tbody>\n",
       "    <tr>\n",
       "      <th>count</th>\n",
       "      <td>4774.000000</td>\n",
       "      <td>4774.000000</td>\n",
       "    </tr>\n",
       "    <tr>\n",
       "      <th>mean</th>\n",
       "      <td>40.758513</td>\n",
       "      <td>-73.875316</td>\n",
       "    </tr>\n",
       "    <tr>\n",
       "      <th>std</th>\n",
       "      <td>0.068739</td>\n",
       "      <td>0.069974</td>\n",
       "    </tr>\n",
       "    <tr>\n",
       "      <th>min</th>\n",
       "      <td>40.650000</td>\n",
       "      <td>-73.970000</td>\n",
       "    </tr>\n",
       "    <tr>\n",
       "      <th>25%</th>\n",
       "      <td>40.650000</td>\n",
       "      <td>-73.970000</td>\n",
       "    </tr>\n",
       "    <tr>\n",
       "      <th>50%</th>\n",
       "      <td>40.770000</td>\n",
       "      <td>-73.900000</td>\n",
       "    </tr>\n",
       "    <tr>\n",
       "      <th>75%</th>\n",
       "      <td>40.780000</td>\n",
       "      <td>-73.780000</td>\n",
       "    </tr>\n",
       "    <tr>\n",
       "      <th>max</th>\n",
       "      <td>40.840000</td>\n",
       "      <td>-73.780000</td>\n",
       "    </tr>\n",
       "  </tbody>\n",
       "</table>\n",
       "</div>"
      ],
      "text/plain": [
       "          latitude    longitude\n",
       "count  4774.000000  4774.000000\n",
       "mean     40.758513   -73.875316\n",
       "std       0.068739     0.069974\n",
       "min      40.650000   -73.970000\n",
       "25%      40.650000   -73.970000\n",
       "50%      40.770000   -73.900000\n",
       "75%      40.780000   -73.780000\n",
       "max      40.840000   -73.780000"
      ]
     },
     "execution_count": 6,
     "metadata": {},
     "output_type": "execute_result"
    }
   ],
   "source": [
    "#描述数字类型数据的统计特性\n",
    "#we can also look at the statistics, but unfortunately only two columns are numeric. The rest were read as strings due to missing/wrong data\n",
    "WD.describe()"
   ]
  },
  {
   "cell_type": "markdown",
   "metadata": {},
   "source": [
    "Our Pandas DataFrame appears to be composed of several data `Series`: date, maxtemp, mintemp, avgtemp,snowfall,latitude,longitude"
   ]
  },
  {
   "cell_type": "code",
   "execution_count": 8,
   "metadata": {},
   "outputs": [
    {
     "name": "stdout",
     "output_type": "stream",
     "text": [
      "0        1/1/11 0:00\n",
      "1        1/2/11 0:00\n",
      "2        1/3/11 0:00\n",
      "3        1/4/11 0:00\n",
      "4        1/5/11 0:00\n",
      "5        1/6/11 0:00\n",
      "6        1/7/11 0:00\n",
      "7        1/8/11 0:00\n",
      "8        1/9/11 0:00\n",
      "9       1/10/11 0:00\n",
      "10      1/11/11 0:00\n",
      "11      1/12/11 0:00\n",
      "12      1/13/11 0:00\n",
      "13      1/14/11 0:00\n",
      "14      1/15/11 0:00\n",
      "15      1/16/11 0:00\n",
      "16      1/17/11 0:00\n",
      "17      1/18/11 0:00\n",
      "18      1/19/11 0:00\n",
      "19      1/20/11 0:00\n",
      "20      1/21/11 0:00\n",
      "21      1/22/11 0:00\n",
      "22      1/23/11 0:00\n",
      "23      1/24/11 0:00\n",
      "24      1/25/11 0:00\n",
      "25      1/26/11 0:00\n",
      "26      1/27/11 0:00\n",
      "27      1/28/11 0:00\n",
      "28      1/29/11 0:00\n",
      "29      1/30/11 0:00\n",
      "            ...     \n",
      "4744     4/2/14 0:00\n",
      "4745     4/3/14 0:00\n",
      "4746     4/4/14 0:00\n",
      "4747     4/5/14 0:00\n",
      "4748     4/6/14 0:00\n",
      "4749     4/7/14 0:00\n",
      "4750     4/8/14 0:00\n",
      "4751     4/9/14 0:00\n",
      "4752    4/10/14 0:00\n",
      "4753    4/11/14 0:00\n",
      "4754    4/12/14 0:00\n",
      "4755    4/13/14 0:00\n",
      "4756    4/14/14 0:00\n",
      "4757    4/15/14 0:00\n",
      "4758    4/16/14 0:00\n",
      "4759    4/17/14 0:00\n",
      "4760    4/18/14 0:00\n",
      "4761    4/19/14 0:00\n",
      "4762    4/20/14 0:00\n",
      "4763    4/21/14 0:00\n",
      "4764    4/22/14 0:00\n",
      "4765    4/23/14 0:00\n",
      "4766    4/24/14 0:00\n",
      "4767    4/25/14 0:00\n",
      "4768    4/26/14 0:00\n",
      "4769    4/27/14 0:00\n",
      "4770    4/28/14 0:00\n",
      "4771    4/29/14 0:00\n",
      "4772    4/30/14 0:00\n",
      "4773     5/1/14 0:00\n",
      "Name: date, dtype: object\n"
     ]
    }
   ],
   "source": [
    "#the can be accessed by calling their name after '.'\n",
    "print(WD.date)"
   ]
  },
  {
   "cell_type": "code",
   "execution_count": 9,
   "metadata": {},
   "outputs": [],
   "source": [
    "#or in square braces\n",
    "WD['date'];"
   ]
  },
  {
   "cell_type": "markdown",
   "metadata": {},
   "source": [
    "Series work similarly to arrays and can be indexed or sliced. The main difference is that in addition to the\n",
    "regular indexing by ingeter non-negative order numbers, the indexing could be also done through a custom index supplied in the DataFrame (left column) which is inherited by all the Series. This way Series work similarly to dictionaries. In the case above however both indeces are the same"
   ]
  },
  {
   "cell_type": "code",
   "execution_count": 11,
   "metadata": {},
   "outputs": [
    {
     "data": {
      "text/plain": [
       "'1/1/11 0:00'"
      ]
     },
     "execution_count": 11,
     "metadata": {},
     "output_type": "execute_result"
    }
   ],
   "source": [
    "#in the case above the provided index (first column) is the same as index by order, so both types of indexing are the same\n",
    "WD.date[0] #but in general square braces use custom DataFrame Index\n",
    "WD.date.iloc[0] #and iloc uses integer indexing by order"
   ]
  },
  {
   "cell_type": "markdown",
   "metadata": {},
   "source": [
    "Due to some missing/incorrect data most of the columns are read as string, rather than numeric or datetime. The statements below convert them to the right data type, coercing wrong value to NaN's.  \n",
    "数据清洗过程"
   ]
  },
  {
   "cell_type": "code",
   "execution_count": 12,
   "metadata": {},
   "outputs": [],
   "source": [
    "WD.avgtemp=pd.to_numeric(WD.avgtemp, errors='coerce')"
   ]
  },
  {
   "cell_type": "code",
   "execution_count": 13,
   "metadata": {},
   "outputs": [],
   "source": [
    "WD.maxtemp=pd.to_numeric(WD.maxtemp, errors='coerce')"
   ]
  },
  {
   "cell_type": "code",
   "execution_count": 14,
   "metadata": {},
   "outputs": [],
   "source": [
    "WD.mintemp=pd.to_numeric(WD.mintemp, errors='coerce')"
   ]
  },
  {
   "cell_type": "code",
   "execution_count": 15,
   "metadata": {},
   "outputs": [],
   "source": [
    "WD.precipitation=pd.to_numeric(WD.precipitation, errors='coerce')"
   ]
  },
  {
   "cell_type": "code",
   "execution_count": 16,
   "metadata": {},
   "outputs": [],
   "source": [
    "WD.snowfall=pd.to_numeric(WD.snowfall, errors='coerce')"
   ]
  },
  {
   "cell_type": "code",
   "execution_count": 17,
   "metadata": {},
   "outputs": [],
   "source": [
    "WD.date=pd.to_datetime(WD.date, errors='coerce')"
   ]
  },
  {
   "cell_type": "code",
   "execution_count": 18,
   "metadata": {},
   "outputs": [],
   "source": [
    "#finally - drop the rows with NaN's\n",
    "WD=WD.dropna()"
   ]
  },
  {
   "cell_type": "markdown",
   "metadata": {},
   "source": [
    "This is perhaps one of the most streightforward and universal ways of data clearning in Pandas. Or course it is a bit risky to do it blindly as many data, which otherwise could make sense, can be lost this way. Luckily, this is not our case here."
   ]
  },
  {
   "cell_type": "code",
   "execution_count": 15,
   "metadata": {},
   "outputs": [
    {
     "data": {
      "text/html": [
       "<div>\n",
       "<table border=\"1\" class=\"dataframe\">\n",
       "  <thead>\n",
       "    <tr style=\"text-align: right;\">\n",
       "      <th></th>\n",
       "      <th>maxtemp</th>\n",
       "      <th>mintemp</th>\n",
       "      <th>avgtemp</th>\n",
       "      <th>precipitation</th>\n",
       "      <th>snowfall</th>\n",
       "      <th>latitude</th>\n",
       "      <th>longitude</th>\n",
       "    </tr>\n",
       "  </thead>\n",
       "  <tbody>\n",
       "    <tr>\n",
       "      <th>count</th>\n",
       "      <td>4373.000000</td>\n",
       "      <td>4373.000000</td>\n",
       "      <td>4373.000000</td>\n",
       "      <td>4373.00000</td>\n",
       "      <td>4373.000000</td>\n",
       "      <td>4373.000000</td>\n",
       "      <td>4373.000000</td>\n",
       "    </tr>\n",
       "    <tr>\n",
       "      <th>mean</th>\n",
       "      <td>61.583810</td>\n",
       "      <td>47.723988</td>\n",
       "      <td>54.653899</td>\n",
       "      <td>0.13456</td>\n",
       "      <td>0.096570</td>\n",
       "      <td>40.751098</td>\n",
       "      <td>-73.877626</td>\n",
       "    </tr>\n",
       "    <tr>\n",
       "      <th>std</th>\n",
       "      <td>17.969404</td>\n",
       "      <td>16.767256</td>\n",
       "      <td>17.194507</td>\n",
       "      <td>0.41301</td>\n",
       "      <td>0.689015</td>\n",
       "      <td>0.067042</td>\n",
       "      <td>0.072646</td>\n",
       "    </tr>\n",
       "    <tr>\n",
       "      <th>min</th>\n",
       "      <td>17.000000</td>\n",
       "      <td>3.000000</td>\n",
       "      <td>11.000000</td>\n",
       "      <td>0.00000</td>\n",
       "      <td>0.000000</td>\n",
       "      <td>40.650000</td>\n",
       "      <td>-73.970000</td>\n",
       "    </tr>\n",
       "    <tr>\n",
       "      <th>25%</th>\n",
       "      <td>47.000000</td>\n",
       "      <td>35.000000</td>\n",
       "      <td>41.000000</td>\n",
       "      <td>0.00000</td>\n",
       "      <td>0.000000</td>\n",
       "      <td>40.650000</td>\n",
       "      <td>-73.970000</td>\n",
       "    </tr>\n",
       "    <tr>\n",
       "      <th>50%</th>\n",
       "      <td>62.000000</td>\n",
       "      <td>47.000000</td>\n",
       "      <td>54.000000</td>\n",
       "      <td>0.00000</td>\n",
       "      <td>0.000000</td>\n",
       "      <td>40.770000</td>\n",
       "      <td>-73.900000</td>\n",
       "    </tr>\n",
       "    <tr>\n",
       "      <th>75%</th>\n",
       "      <td>77.000000</td>\n",
       "      <td>63.000000</td>\n",
       "      <td>70.000000</td>\n",
       "      <td>0.05000</td>\n",
       "      <td>0.000000</td>\n",
       "      <td>40.780000</td>\n",
       "      <td>-73.780000</td>\n",
       "    </tr>\n",
       "    <tr>\n",
       "      <th>max</th>\n",
       "      <td>104.000000</td>\n",
       "      <td>86.000000</td>\n",
       "      <td>94.500000</td>\n",
       "      <td>7.80000</td>\n",
       "      <td>12.300000</td>\n",
       "      <td>40.840000</td>\n",
       "      <td>-73.780000</td>\n",
       "    </tr>\n",
       "  </tbody>\n",
       "</table>\n",
       "</div>"
      ],
      "text/plain": [
       "           maxtemp      mintemp      avgtemp  precipitation     snowfall  \\\n",
       "count  4373.000000  4373.000000  4373.000000     4373.00000  4373.000000   \n",
       "mean     61.583810    47.723988    54.653899        0.13456     0.096570   \n",
       "std      17.969404    16.767256    17.194507        0.41301     0.689015   \n",
       "min      17.000000     3.000000    11.000000        0.00000     0.000000   \n",
       "25%      47.000000    35.000000    41.000000        0.00000     0.000000   \n",
       "50%      62.000000    47.000000    54.000000        0.00000     0.000000   \n",
       "75%      77.000000    63.000000    70.000000        0.05000     0.000000   \n",
       "max     104.000000    86.000000    94.500000        7.80000    12.300000   \n",
       "\n",
       "          latitude    longitude  \n",
       "count  4373.000000  4373.000000  \n",
       "mean     40.751098   -73.877626  \n",
       "std       0.067042     0.072646  \n",
       "min      40.650000   -73.970000  \n",
       "25%      40.650000   -73.970000  \n",
       "50%      40.770000   -73.900000  \n",
       "75%      40.780000   -73.780000  \n",
       "max      40.840000   -73.780000  "
      ]
     },
     "execution_count": 15,
     "metadata": {},
     "output_type": "execute_result"
    }
   ],
   "source": [
    "#now once all the columns have correct data types we can look at the statistics for all the columns\n",
    "WD.describe()"
   ]
  },
  {
   "cell_type": "code",
   "execution_count": 19,
   "metadata": {},
   "outputs": [
    {
     "data": {
      "text/plain": [
       "array([(40.840000000000003, -73.849999999999994),\n",
       "       (40.780000000000001, -73.969999999999999),\n",
       "       (40.649999999999999, -73.780000000000001),\n",
       "       (40.770000000000003, -73.900000000000006)], dtype=object)"
      ]
     },
     "execution_count": 19,
     "metadata": {},
     "output_type": "execute_result"
    }
   ],
   "source": [
    "#while we have 4373 observations we have only 4 locations\n",
    "Locations=pd.unique(WD[['latitude','longitude']].values); Locations"
   ]
  },
  {
   "cell_type": "code",
   "execution_count": 20,
   "metadata": {},
   "outputs": [],
   "source": [
    "#let us plot the average temperature against time\n",
    "#statement below is used to make iPython position the plots within the notebook\n",
    "%matplotlib inline "
   ]
  },
  {
   "cell_type": "code",
   "execution_count": 21,
   "metadata": {},
   "outputs": [
    {
     "data": {
      "text/plain": [
       "<matplotlib.axes._subplots.AxesSubplot at 0x7fd592a90710>"
      ]
     },
     "execution_count": 21,
     "metadata": {},
     "output_type": "execute_result"
    },
    {
     "data": {
      "image/png": "[encoded data removed]",
      "text/plain": [
       "<matplotlib.figure.Figure at 0x7fd592d4dd50>"
      ]
     },
     "metadata": {},
     "output_type": "display_data"
    }
   ],
   "source": [
    "#pandas has its own plot function, still based on matplotlib however\n",
    "#one of the uses - let it plot one column (Series) against the other. In our case - avgtemp against date\n",
    "WD.plot(x='date',y='avgtemp')"
   ]
  },
  {
   "cell_type": "code",
   "execution_count": 22,
   "metadata": {},
   "outputs": [
    {
     "data": {
      "text/plain": [
       "<matplotlib.axes._subplots.AxesSubplot at 0x7fd59298b290>"
      ]
     },
     "execution_count": 22,
     "metadata": {},
     "output_type": "execute_result"
    },
    {
     "data": {
      "image/png": "[encoded data removed]",
      "text/plain": [
       "<matplotlib.figure.Figure at 0x7fd592a4a0d0>"
      ]
     },
     "metadata": {},
     "output_type": "display_data"
    }
   ],
   "source": [
    "#now filter the observations for third location only and redo the plot\n",
    "WD[WD.latitude==Locations[2][0]].plot(x='date',y='avgtemp')"
   ]
  },
  {
   "cell_type": "markdown",
   "metadata": {},
   "source": [
    "While this case does not provide a comprehensive overview of Pandas, it gives an idea of what it could be used for and how to upload, clean, filter, analyze and visualize the data. Please keep in mind however that all those operations have multiple possible implementations in Pandas, we just demonstrated one of the approaches. A more comprehensive exploration of the package is strongly recommended"
   ]
  },
  {
   "cell_type": "code",
   "execution_count": null,
   "metadata": {
    "collapsed": true
   },
   "outputs": [],
   "source": []
  }
 ],
 "metadata": {
  "kernelspec": {
   "display_name": "PUI2016_Python2",
   "language": "python",
   "name": "pui2016_python2"
  },
  "language_info": {
   "codemirror_mode": {
    "name": "ipython",
    "version": 2
   },
   "file_extension": ".py",
   "mimetype": "text/x-python",
   "name": "python",
   "nbconvert_exporter": "python",
   "pygments_lexer": "ipython2",
   "version": "2.7.12"
  }
 },
 "nbformat": 4,
 "nbformat_minor": 1
}
